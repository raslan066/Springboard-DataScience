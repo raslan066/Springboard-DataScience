{
 "cells": [
  {
   "cell_type": "code",
   "execution_count": 11,
   "metadata": {},
   "outputs": [
    {
     "data": {
      "text/plain": [
       "10"
      ]
     },
     "execution_count": 11,
     "metadata": {},
     "output_type": "execute_result"
    }
   ],
   "source": [
    "import pandas as pd\n",
    "import numpy as np\n",
    "import operator\n",
    "import re\n",
    "import datetime \n",
    "from datetime import timedelta\n",
    "from collections import OrderedDict\n",
    "import seaborn as sns\n",
    "import pickle\n",
    "import os.path\n",
    "from matplotlib.colors import ListedColormap\n",
    "import matplotlib.colors as colors\n",
    "import matplotlib.cm as cmx\n",
    "import matplotlib.pyplot as plt\n",
    "#from mpl_toolkits.basemap import Basemap\n",
    "#from geopy.geocoders import Nominatim\n",
    "import math\n",
    "import warnings\n",
    "warnings.filterwarnings('ignore')\n",
    "from timezonefinder import TimezoneFinder\n",
    "tf = TimezoneFinder()\n",
    "import pytz\n",
    "\n",
    "top_airtpots= ['ATL', 'DEN', 'DFW', 'IAH', 'LAS', 'LAX', 'ORD', 'PHX', 'SEA', 'SFO']\n",
    "len(top_airtpots)"
   ]
  },
  {
   "cell_type": "markdown",
   "metadata": {},
   "source": [
    "### 1. Reading the Airports file\n",
    "There 322 airports in total. I used only top 10 most busiest (in terms of traffic) airports "
   ]
  },
  {
   "cell_type": "code",
   "execution_count": 12,
   "metadata": {},
   "outputs": [
    {
     "name": "stdout",
     "output_type": "stream",
     "text": [
      "There are 322 airports\n"
     ]
    }
   ],
   "source": [
    "airports=pd.read_csv('airports.csv')\n",
    "print('There are {} airports'.format (airports.shape[0]))"
   ]
  },
  {
   "cell_type": "markdown",
   "metadata": {},
   "source": [
    "Filtering only the airports that are needed."
   ]
  },
  {
   "cell_type": "code",
   "execution_count": 13,
   "metadata": {},
   "outputs": [],
   "source": [
    "airports= airports[airports.IATA_CODE.isin(top_airtpots)].reset_index(inplace=False)"
   ]
  },
  {
   "cell_type": "code",
   "execution_count": 14,
   "metadata": {
    "scrolled": true
   },
   "outputs": [
    {
     "name": "stdout",
     "output_type": "stream",
     "text": [
      "There are 10 airports\n"
     ]
    }
   ],
   "source": [
    "print('There are {} airports'.format(airports.shape[0]))"
   ]
  },
  {
   "cell_type": "markdown",
   "metadata": {},
   "source": [
    "### 2. Getting the timezone for each airports\n",
    "This data will be used to get weather data, details will be discussed then"
   ]
  },
  {
   "cell_type": "markdown",
   "metadata": {},
   "source": [
    "### 2.1 Example Timezone Finding \n"
   ]
  },
  {
   "cell_type": "code",
   "execution_count": 15,
   "metadata": {
    "scrolled": true
   },
   "outputs": [
    {
     "name": "stdout",
     "output_type": "stream",
     "text": [
      "Time zone for Hartsfield-Jackson Atlanta International Airport is America/Chicago\n"
     ]
    }
   ],
   "source": [
    "newtimezone= tf.closest_timezone_at(lng=-84.42694, lat=33.64044)\n",
    "print('Time zone for Hartsfield-Jackson Atlanta International Airport is', newtimezone)"
   ]
  },
  {
   "cell_type": "markdown",
   "metadata": {},
   "source": [
    "### 2.2 Example Finding Local Time at New Timezone\n",
    "This will be important when getting accurate weather data.\n"
   ]
  },
  {
   "cell_type": "code",
   "execution_count": 16,
   "metadata": {
    "scrolled": true
   },
   "outputs": [
    {
     "name": "stdout",
     "output_type": "stream",
     "text": [
      "My timestamp on Thursday, January 1, 2015 12:00:00 AM  :  1420092000\n",
      "Timestamp at the desired timezone at the same time     :  1420088400.0\n"
     ]
    }
   ],
   "source": [
    "epoch2015_local= 1420092000 #Thursday, January 1, 2015 12:00:00 AM\n",
    "print('My timestamp on Thursday, January 1, 2015 12:00:00 AM  : ',epoch2015_local)\n",
    "local_time =datetime.datetime.fromtimestamp(epoch2015_local)\n",
    "timezone = pytz.timezone('America/New_York')\n",
    "d_aware = timezone.localize(local_time)\n",
    "print('Timestamp at the desired timezone at the same time     : ',d_aware.timestamp())"
   ]
  },
  {
   "cell_type": "markdown",
   "metadata": {},
   "source": [
    "### 3. MakeTimeZone Function\n",
    "Returns the local time in comparison to my local time on Jan 1,2015 at 00:00:00 am"
   ]
  },
  {
   "cell_type": "code",
   "execution_count": 17,
   "metadata": {},
   "outputs": [],
   "source": [
    "def maketimezone(LONGITUDE,LATITUDE):\n",
    "    \n",
    "    # Determining the timezone\n",
    "    newtimezone= tf.closest_timezone_at(lng=LONGITUDE, lat=LATITUDE)\n",
    "\n",
    "    return newtimezone"
   ]
  },
  {
   "cell_type": "code",
   "execution_count": 18,
   "metadata": {},
   "outputs": [],
   "source": [
    "def maketimestamp(LONGITUDE,LATITUDE):\n",
    "    \n",
    "    # Determining the timezone\n",
    "    newtimezone= tf.closest_timezone_at(lng=LONGITUDE, lat=LATITUDE)\n",
    "    \n",
    "    epoch2015_local= 1420092000 #Thursday, January 1, 2015 12:00:00 AM\n",
    "    \n",
    "    local_time =datetime.datetime.fromtimestamp(epoch2015_local)\n",
    "    \n",
    "    timezone = pytz.timezone(newtimezone)\n",
    "    \n",
    "    newtimestamp = timezone.localize(local_time)\n",
    "    \n",
    "    return newtimestamp.timestamp()"
   ]
  },
  {
   "cell_type": "code",
   "execution_count": 19,
   "metadata": {},
   "outputs": [],
   "source": [
    "airports['Timezone']=''\n",
    "for i in range(len(airports)):\n",
    "    airports['Timezone'][i]= maketimezone(airports.LONGITUDE.iloc[i],airports.LATITUDE.iloc[i])"
   ]
  },
  {
   "cell_type": "code",
   "execution_count": 20,
   "metadata": {},
   "outputs": [],
   "source": [
    "airports['Timestamp']=''\n",
    "for i in range(len(airports)):\n",
    "    airports['Timestamp'][i]= maketimestamp(airports.LONGITUDE.iloc[i],airports.LATITUDE.iloc[i])"
   ]
  },
  {
   "cell_type": "code",
   "execution_count": 21,
   "metadata": {},
   "outputs": [],
   "source": [
    "airports['Timezone_Diff']=(1420092000-airports.Timestamp)/3600"
   ]
  },
  {
   "cell_type": "markdown",
   "metadata": {},
   "source": [
    "### 4. Save Changes"
   ]
  },
  {
   "cell_type": "code",
   "execution_count": 22,
   "metadata": {},
   "outputs": [],
   "source": [
    "airports.to_csv('Capstone 1 - Airports.csv')"
   ]
  },
  {
   "cell_type": "code",
   "execution_count": 23,
   "metadata": {},
   "outputs": [
    {
     "data": {
      "text/html": [
       "<div>\n",
       "<style scoped>\n",
       "    .dataframe tbody tr th:only-of-type {\n",
       "        vertical-align: middle;\n",
       "    }\n",
       "\n",
       "    .dataframe tbody tr th {\n",
       "        vertical-align: top;\n",
       "    }\n",
       "\n",
       "    .dataframe thead th {\n",
       "        text-align: right;\n",
       "    }\n",
       "</style>\n",
       "<table border=\"1\" class=\"dataframe\">\n",
       "  <thead>\n",
       "    <tr style=\"text-align: right;\">\n",
       "      <th></th>\n",
       "      <th>index</th>\n",
       "      <th>IATA_CODE</th>\n",
       "      <th>AIRPORT</th>\n",
       "      <th>CITY</th>\n",
       "      <th>STATE</th>\n",
       "      <th>COUNTRY</th>\n",
       "      <th>LATITUDE</th>\n",
       "      <th>LONGITUDE</th>\n",
       "      <th>Timezone</th>\n",
       "      <th>Timestamp</th>\n",
       "      <th>Timezone_Diff</th>\n",
       "    </tr>\n",
       "  </thead>\n",
       "  <tbody>\n",
       "    <tr>\n",
       "      <th>0</th>\n",
       "      <td>20</td>\n",
       "      <td>ATL</td>\n",
       "      <td>Hartsfield-Jackson Atlanta International Airport</td>\n",
       "      <td>Atlanta</td>\n",
       "      <td>GA</td>\n",
       "      <td>USA</td>\n",
       "      <td>33.64044</td>\n",
       "      <td>-84.42694</td>\n",
       "      <td>America/Chicago</td>\n",
       "      <td>1.42009e+09</td>\n",
       "      <td>0</td>\n",
       "    </tr>\n",
       "    <tr>\n",
       "      <th>1</th>\n",
       "      <td>85</td>\n",
       "      <td>DEN</td>\n",
       "      <td>Denver International Airport</td>\n",
       "      <td>Denver</td>\n",
       "      <td>CO</td>\n",
       "      <td>USA</td>\n",
       "      <td>39.85841</td>\n",
       "      <td>-104.66700</td>\n",
       "      <td>America/Denver</td>\n",
       "      <td>1.4201e+09</td>\n",
       "      <td>-1</td>\n",
       "    </tr>\n",
       "    <tr>\n",
       "      <th>2</th>\n",
       "      <td>86</td>\n",
       "      <td>DFW</td>\n",
       "      <td>Dallas/Fort Worth International Airport</td>\n",
       "      <td>Dallas-Fort Worth</td>\n",
       "      <td>TX</td>\n",
       "      <td>USA</td>\n",
       "      <td>32.89595</td>\n",
       "      <td>-97.03720</td>\n",
       "      <td>America/Chicago</td>\n",
       "      <td>1.42009e+09</td>\n",
       "      <td>0</td>\n",
       "    </tr>\n",
       "    <tr>\n",
       "      <th>3</th>\n",
       "      <td>151</td>\n",
       "      <td>IAH</td>\n",
       "      <td>George Bush Intercontinental Airport</td>\n",
       "      <td>Houston</td>\n",
       "      <td>TX</td>\n",
       "      <td>USA</td>\n",
       "      <td>29.98047</td>\n",
       "      <td>-95.33972</td>\n",
       "      <td>America/Chicago</td>\n",
       "      <td>1.42009e+09</td>\n",
       "      <td>0</td>\n",
       "    </tr>\n",
       "    <tr>\n",
       "      <th>4</th>\n",
       "      <td>174</td>\n",
       "      <td>LAS</td>\n",
       "      <td>McCarran International Airport</td>\n",
       "      <td>Las Vegas</td>\n",
       "      <td>NV</td>\n",
       "      <td>USA</td>\n",
       "      <td>36.08036</td>\n",
       "      <td>-115.15233</td>\n",
       "      <td>America/Los_Angeles</td>\n",
       "      <td>1.4201e+09</td>\n",
       "      <td>-2</td>\n",
       "    </tr>\n",
       "    <tr>\n",
       "      <th>5</th>\n",
       "      <td>176</td>\n",
       "      <td>LAX</td>\n",
       "      <td>Los Angeles International Airport</td>\n",
       "      <td>Los Angeles</td>\n",
       "      <td>CA</td>\n",
       "      <td>USA</td>\n",
       "      <td>33.94254</td>\n",
       "      <td>-118.40807</td>\n",
       "      <td>America/Los_Angeles</td>\n",
       "      <td>1.4201e+09</td>\n",
       "      <td>-2</td>\n",
       "    </tr>\n",
       "    <tr>\n",
       "      <th>6</th>\n",
       "      <td>228</td>\n",
       "      <td>ORD</td>\n",
       "      <td>Chicago O'Hare International Airport</td>\n",
       "      <td>Chicago</td>\n",
       "      <td>IL</td>\n",
       "      <td>USA</td>\n",
       "      <td>41.97960</td>\n",
       "      <td>-87.90446</td>\n",
       "      <td>America/Chicago</td>\n",
       "      <td>1.42009e+09</td>\n",
       "      <td>0</td>\n",
       "    </tr>\n",
       "    <tr>\n",
       "      <th>7</th>\n",
       "      <td>239</td>\n",
       "      <td>PHX</td>\n",
       "      <td>Phoenix Sky Harbor International Airport</td>\n",
       "      <td>Phoenix</td>\n",
       "      <td>AZ</td>\n",
       "      <td>USA</td>\n",
       "      <td>33.43417</td>\n",
       "      <td>-112.00806</td>\n",
       "      <td>America/Phoenix</td>\n",
       "      <td>1.4201e+09</td>\n",
       "      <td>-1</td>\n",
       "    </tr>\n",
       "    <tr>\n",
       "      <th>8</th>\n",
       "      <td>277</td>\n",
       "      <td>SEA</td>\n",
       "      <td>Seattle-Tacoma International Airport</td>\n",
       "      <td>Seattle</td>\n",
       "      <td>WA</td>\n",
       "      <td>USA</td>\n",
       "      <td>47.44898</td>\n",
       "      <td>-122.30931</td>\n",
       "      <td>America/Los_Angeles</td>\n",
       "      <td>1.4201e+09</td>\n",
       "      <td>-2</td>\n",
       "    </tr>\n",
       "    <tr>\n",
       "      <th>9</th>\n",
       "      <td>278</td>\n",
       "      <td>SFO</td>\n",
       "      <td>San Francisco International Airport</td>\n",
       "      <td>San Francisco</td>\n",
       "      <td>CA</td>\n",
       "      <td>USA</td>\n",
       "      <td>37.61900</td>\n",
       "      <td>-122.37484</td>\n",
       "      <td>America/Los_Angeles</td>\n",
       "      <td>1.4201e+09</td>\n",
       "      <td>-2</td>\n",
       "    </tr>\n",
       "  </tbody>\n",
       "</table>\n",
       "</div>"
      ],
      "text/plain": [
       "   index IATA_CODE                                           AIRPORT  \\\n",
       "0     20       ATL  Hartsfield-Jackson Atlanta International Airport   \n",
       "1     85       DEN                      Denver International Airport   \n",
       "2     86       DFW           Dallas/Fort Worth International Airport   \n",
       "3    151       IAH              George Bush Intercontinental Airport   \n",
       "4    174       LAS                    McCarran International Airport   \n",
       "5    176       LAX                 Los Angeles International Airport   \n",
       "6    228       ORD              Chicago O'Hare International Airport   \n",
       "7    239       PHX          Phoenix Sky Harbor International Airport   \n",
       "8    277       SEA              Seattle-Tacoma International Airport   \n",
       "9    278       SFO               San Francisco International Airport   \n",
       "\n",
       "                CITY STATE COUNTRY  LATITUDE  LONGITUDE             Timezone  \\\n",
       "0            Atlanta    GA     USA  33.64044  -84.42694      America/Chicago   \n",
       "1             Denver    CO     USA  39.85841 -104.66700       America/Denver   \n",
       "2  Dallas-Fort Worth    TX     USA  32.89595  -97.03720      America/Chicago   \n",
       "3            Houston    TX     USA  29.98047  -95.33972      America/Chicago   \n",
       "4          Las Vegas    NV     USA  36.08036 -115.15233  America/Los_Angeles   \n",
       "5        Los Angeles    CA     USA  33.94254 -118.40807  America/Los_Angeles   \n",
       "6            Chicago    IL     USA  41.97960  -87.90446      America/Chicago   \n",
       "7            Phoenix    AZ     USA  33.43417 -112.00806      America/Phoenix   \n",
       "8            Seattle    WA     USA  47.44898 -122.30931  America/Los_Angeles   \n",
       "9      San Francisco    CA     USA  37.61900 -122.37484  America/Los_Angeles   \n",
       "\n",
       "     Timestamp Timezone_Diff  \n",
       "0  1.42009e+09             0  \n",
       "1   1.4201e+09            -1  \n",
       "2  1.42009e+09             0  \n",
       "3  1.42009e+09             0  \n",
       "4   1.4201e+09            -2  \n",
       "5   1.4201e+09            -2  \n",
       "6  1.42009e+09             0  \n",
       "7   1.4201e+09            -1  \n",
       "8   1.4201e+09            -2  \n",
       "9   1.4201e+09            -2  "
      ]
     },
     "execution_count": 23,
     "metadata": {},
     "output_type": "execute_result"
    }
   ],
   "source": [
    "airports"
   ]
  },
  {
   "cell_type": "code",
   "execution_count": null,
   "metadata": {},
   "outputs": [],
   "source": []
  }
 ],
 "metadata": {
  "kernelspec": {
   "display_name": "Python 3",
   "language": "python",
   "name": "python3"
  },
  "language_info": {
   "codemirror_mode": {
    "name": "ipython",
    "version": 3
   },
   "file_extension": ".py",
   "mimetype": "text/x-python",
   "name": "python",
   "nbconvert_exporter": "python",
   "pygments_lexer": "ipython3",
   "version": "3.7.1"
  }
 },
 "nbformat": 4,
 "nbformat_minor": 2
}
