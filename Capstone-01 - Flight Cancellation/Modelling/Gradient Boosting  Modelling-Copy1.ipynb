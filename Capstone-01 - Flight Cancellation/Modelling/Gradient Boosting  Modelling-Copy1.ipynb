{
 "cells": [
  {
   "cell_type": "code",
   "execution_count": 1,
   "metadata": {},
   "outputs": [],
   "source": [
    "import numpy as np\n",
    "import pandas as pd\n",
    "import scipy.stats as stats\n",
    "import matplotlib.pyplot as plt\n",
    "import sklearn\n",
    "import scipy\n",
    "import pylab\n",
    "import time\n",
    "\n",
    "import seaborn as sns\n",
    "\n",
    "# special matplotlib argument for improved plots\n",
    "from matplotlib import rcParams\n",
    "sns.set_style(\"whitegrid\")\n",
    "sns.set_context(\"poster\")"
   ]
  },
  {
   "cell_type": "code",
   "execution_count": 2,
   "metadata": {},
   "outputs": [],
   "source": [
    "df= pd.read_csv(\"Encoded_last.csv\")"
   ]
  },
  {
   "cell_type": "code",
   "execution_count": 3,
   "metadata": {},
   "outputs": [],
   "source": [
    "df.drop(['Unnamed: 0'],axis=1,inplace=True)"
   ]
  },
  {
   "cell_type": "code",
   "execution_count": 4,
   "metadata": {
    "scrolled": false
   },
   "outputs": [
    {
     "data": {
      "text/html": [
       "<div>\n",
       "<style scoped>\n",
       "    .dataframe tbody tr th:only-of-type {\n",
       "        vertical-align: middle;\n",
       "    }\n",
       "\n",
       "    .dataframe tbody tr th {\n",
       "        vertical-align: top;\n",
       "    }\n",
       "\n",
       "    .dataframe thead th {\n",
       "        text-align: right;\n",
       "    }\n",
       "</style>\n",
       "<table border=\"1\" class=\"dataframe\">\n",
       "  <thead>\n",
       "    <tr style=\"text-align: right;\">\n",
       "      <th></th>\n",
       "      <th>DATE</th>\n",
       "      <th>YEAR</th>\n",
       "      <th>MONTH</th>\n",
       "      <th>DAY</th>\n",
       "      <th>DAY_OF_WEEK</th>\n",
       "      <th>FLIGHT_NUMBER</th>\n",
       "      <th>ORG_apparentTemperature</th>\n",
       "      <th>ORG_cloudCover</th>\n",
       "      <th>ORG_dewPoint</th>\n",
       "      <th>ORG_humidity</th>\n",
       "      <th>...</th>\n",
       "      <th>DESTINATION_AIRPORT_DEN</th>\n",
       "      <th>DESTINATION_AIRPORT_DFW</th>\n",
       "      <th>DESTINATION_AIRPORT_IAH</th>\n",
       "      <th>DESTINATION_AIRPORT_LAS</th>\n",
       "      <th>DESTINATION_AIRPORT_LAX</th>\n",
       "      <th>DESTINATION_AIRPORT_ORD</th>\n",
       "      <th>DESTINATION_AIRPORT_PHX</th>\n",
       "      <th>DESTINATION_AIRPORT_SEA</th>\n",
       "      <th>DESTINATION_AIRPORT_SFO</th>\n",
       "      <th>DESTINATION_AIRPORT_nan</th>\n",
       "    </tr>\n",
       "  </thead>\n",
       "  <tbody>\n",
       "    <tr>\n",
       "      <th>0</th>\n",
       "      <td>1.420092e+09</td>\n",
       "      <td>2015</td>\n",
       "      <td>1</td>\n",
       "      <td>1</td>\n",
       "      <td>4</td>\n",
       "      <td>1112</td>\n",
       "      <td>45.08</td>\n",
       "      <td>0.00</td>\n",
       "      <td>22.57</td>\n",
       "      <td>0.41</td>\n",
       "      <td>...</td>\n",
       "      <td>0</td>\n",
       "      <td>1</td>\n",
       "      <td>0</td>\n",
       "      <td>0</td>\n",
       "      <td>0</td>\n",
       "      <td>0</td>\n",
       "      <td>0</td>\n",
       "      <td>0</td>\n",
       "      <td>0</td>\n",
       "      <td>0</td>\n",
       "    </tr>\n",
       "    <tr>\n",
       "      <th>1</th>\n",
       "      <td>1.420092e+09</td>\n",
       "      <td>2015</td>\n",
       "      <td>1</td>\n",
       "      <td>1</td>\n",
       "      <td>4</td>\n",
       "      <td>1173</td>\n",
       "      <td>34.23</td>\n",
       "      <td>0.83</td>\n",
       "      <td>16.10</td>\n",
       "      <td>0.47</td>\n",
       "      <td>...</td>\n",
       "      <td>0</td>\n",
       "      <td>0</td>\n",
       "      <td>0</td>\n",
       "      <td>0</td>\n",
       "      <td>0</td>\n",
       "      <td>0</td>\n",
       "      <td>0</td>\n",
       "      <td>0</td>\n",
       "      <td>0</td>\n",
       "      <td>0</td>\n",
       "    </tr>\n",
       "    <tr>\n",
       "      <th>2</th>\n",
       "      <td>1.420092e+09</td>\n",
       "      <td>2015</td>\n",
       "      <td>1</td>\n",
       "      <td>1</td>\n",
       "      <td>4</td>\n",
       "      <td>2336</td>\n",
       "      <td>6.92</td>\n",
       "      <td>0.00</td>\n",
       "      <td>-1.98</td>\n",
       "      <td>0.66</td>\n",
       "      <td>...</td>\n",
       "      <td>0</td>\n",
       "      <td>0</td>\n",
       "      <td>0</td>\n",
       "      <td>0</td>\n",
       "      <td>0</td>\n",
       "      <td>0</td>\n",
       "      <td>0</td>\n",
       "      <td>0</td>\n",
       "      <td>0</td>\n",
       "      <td>0</td>\n",
       "    </tr>\n",
       "    <tr>\n",
       "      <th>3</th>\n",
       "      <td>1.420092e+09</td>\n",
       "      <td>2015</td>\n",
       "      <td>1</td>\n",
       "      <td>1</td>\n",
       "      <td>4</td>\n",
       "      <td>1197</td>\n",
       "      <td>45.08</td>\n",
       "      <td>0.00</td>\n",
       "      <td>22.57</td>\n",
       "      <td>0.41</td>\n",
       "      <td>...</td>\n",
       "      <td>0</td>\n",
       "      <td>0</td>\n",
       "      <td>1</td>\n",
       "      <td>0</td>\n",
       "      <td>0</td>\n",
       "      <td>0</td>\n",
       "      <td>0</td>\n",
       "      <td>0</td>\n",
       "      <td>0</td>\n",
       "      <td>0</td>\n",
       "    </tr>\n",
       "    <tr>\n",
       "      <th>4</th>\n",
       "      <td>1.420092e+09</td>\n",
       "      <td>2015</td>\n",
       "      <td>1</td>\n",
       "      <td>1</td>\n",
       "      <td>4</td>\n",
       "      <td>214</td>\n",
       "      <td>33.39</td>\n",
       "      <td>1.00</td>\n",
       "      <td>15.19</td>\n",
       "      <td>0.47</td>\n",
       "      <td>...</td>\n",
       "      <td>0</td>\n",
       "      <td>1</td>\n",
       "      <td>0</td>\n",
       "      <td>0</td>\n",
       "      <td>0</td>\n",
       "      <td>0</td>\n",
       "      <td>0</td>\n",
       "      <td>0</td>\n",
       "      <td>0</td>\n",
       "      <td>0</td>\n",
       "    </tr>\n",
       "  </tbody>\n",
       "</table>\n",
       "<p>5 rows × 154 columns</p>\n",
       "</div>"
      ],
      "text/plain": [
       "           DATE  YEAR  MONTH  DAY  DAY_OF_WEEK  FLIGHT_NUMBER  \\\n",
       "0  1.420092e+09  2015      1    1            4           1112   \n",
       "1  1.420092e+09  2015      1    1            4           1173   \n",
       "2  1.420092e+09  2015      1    1            4           2336   \n",
       "3  1.420092e+09  2015      1    1            4           1197   \n",
       "4  1.420092e+09  2015      1    1            4            214   \n",
       "\n",
       "   ORG_apparentTemperature  ORG_cloudCover  ORG_dewPoint  ORG_humidity  ...  \\\n",
       "0                    45.08            0.00         22.57          0.41  ...   \n",
       "1                    34.23            0.83         16.10          0.47  ...   \n",
       "2                     6.92            0.00         -1.98          0.66  ...   \n",
       "3                    45.08            0.00         22.57          0.41  ...   \n",
       "4                    33.39            1.00         15.19          0.47  ...   \n",
       "\n",
       "   DESTINATION_AIRPORT_DEN  DESTINATION_AIRPORT_DFW  DESTINATION_AIRPORT_IAH  \\\n",
       "0                        0                        1                        0   \n",
       "1                        0                        0                        0   \n",
       "2                        0                        0                        0   \n",
       "3                        0                        0                        1   \n",
       "4                        0                        1                        0   \n",
       "\n",
       "   DESTINATION_AIRPORT_LAS  DESTINATION_AIRPORT_LAX  DESTINATION_AIRPORT_ORD  \\\n",
       "0                        0                        0                        0   \n",
       "1                        0                        0                        0   \n",
       "2                        0                        0                        0   \n",
       "3                        0                        0                        0   \n",
       "4                        0                        0                        0   \n",
       "\n",
       "   DESTINATION_AIRPORT_PHX  DESTINATION_AIRPORT_SEA  DESTINATION_AIRPORT_SFO  \\\n",
       "0                        0                        0                        0   \n",
       "1                        0                        0                        0   \n",
       "2                        0                        0                        0   \n",
       "3                        0                        0                        0   \n",
       "4                        0                        0                        0   \n",
       "\n",
       "   DESTINATION_AIRPORT_nan  \n",
       "0                        0  \n",
       "1                        0  \n",
       "2                        0  \n",
       "3                        0  \n",
       "4                        0  \n",
       "\n",
       "[5 rows x 154 columns]"
      ]
     },
     "execution_count": 4,
     "metadata": {},
     "output_type": "execute_result"
    }
   ],
   "source": [
    "df.head()"
   ]
  },
  {
   "cell_type": "code",
   "execution_count": 17,
   "metadata": {},
   "outputs": [],
   "source": [
    "X=df.drop(['CANCELLED'],axis=1)\n",
    "y=df['CANCELLED']"
   ]
  },
  {
   "cell_type": "code",
   "execution_count": 18,
   "metadata": {},
   "outputs": [
    {
     "name": "stderr",
     "output_type": "stream",
     "text": [
      "/anaconda3/lib/python3.7/site-packages/sklearn/utils/deprecation.py:58: DeprecationWarning: Class Imputer is deprecated; Imputer was deprecated in version 0.20 and will be removed in 0.22. Import impute.SimpleImputer from sklearn instead.\n",
      "  warnings.warn(msg, category=DeprecationWarning)\n"
     ]
    }
   ],
   "source": [
    "from sklearn.preprocessing import Imputer\n",
    "imputer = Imputer()\n",
    "X = imputer.fit_transform(X)"
   ]
  },
  {
   "cell_type": "code",
   "execution_count": 19,
   "metadata": {},
   "outputs": [],
   "source": [
    "#Reduce the size to 10%\n",
    "from sklearn.model_selection import train_test_split\n",
    "_, X, _, y = train_test_split(X,y,test_size=0.1, random_state=30, stratify=y)"
   ]
  },
  {
   "cell_type": "code",
   "execution_count": 35,
   "metadata": {},
   "outputs": [],
   "source": [
    "from imblearn.over_sampling import SMOTE\n",
    "smote = SMOTE(ratio='minority')\n",
    "X_sm, y_sm = smote.fit_sample(X, y)\n"
   ]
  },
  {
   "cell_type": "code",
   "execution_count": 11,
   "metadata": {},
   "outputs": [
    {
     "name": "stdout",
     "output_type": "stream",
     "text": [
      "39057\n",
      "39057\n",
      "405\n",
      "39057\n"
     ]
    }
   ],
   "source": [
    "print(len(y_sm[y_sm==1]))\n",
    "print(len(y_sm[y_sm==0]))\n",
    "\n",
    "print(len(y[y==1]))\n",
    "print(len(y[y==0]))"
   ]
  },
  {
   "cell_type": "code",
   "execution_count": 36,
   "metadata": {},
   "outputs": [],
   "source": [
    "from sklearn.model_selection import train_test_split\n",
    "X_train, X_test, y_train, y_test = train_test_split(X_sm,y_sm,test_size=0.3, random_state=30, stratify=y_sm)\n",
    "#X_train, X_test, y_train, y_test = train_test_split(X,y,test_size=0.3, random_state=30, stratify=y)"
   ]
  },
  {
   "cell_type": "code",
   "execution_count": 38,
   "metadata": {},
   "outputs": [
    {
     "name": "stdout",
     "output_type": "stream",
     "text": [
      "CPU times: user 3 µs, sys: 1 µs, total: 4 µs\n",
      "Wall time: 16.2 µs\n"
     ]
    },
    {
     "data": {
      "text/plain": [
       "GridSearchCV(cv=5, error_score='raise-deprecating',\n",
       "       estimator=GradientBoostingClassifier(criterion='friedman_mse', init=None,\n",
       "              learning_rate=0.1, loss='deviance', max_depth=3,\n",
       "              max_features='sqrt', max_leaf_nodes=None,\n",
       "              min_impurity_decrease=0.0, min_impurity_split=None,\n",
       "              min_samples_leaf=1, min_sam...      subsample=0.8, tol=0.0001, validation_fraction=0.1,\n",
       "              verbose=0, warm_start=False),\n",
       "       fit_params=None, iid=False, n_jobs=4,\n",
       "       param_grid={'max_depth': range(5, 16, 2), 'min_samples_split': range(200, 1001, 200)},\n",
       "       pre_dispatch='2*n_jobs', refit=True, return_train_score='warn',\n",
       "       scoring='roc_auc', verbose=0)"
      ]
     },
     "execution_count": 38,
     "metadata": {},
     "output_type": "execute_result"
    }
   ],
   "source": [
    "%time\n",
    "from sklearn.ensemble import GradientBoostingClassifier\n",
    "from sklearn.model_selection import GridSearchCV\n",
    "from imblearn.pipeline import Pipeline\n",
    "from imblearn.under_sampling import RandomUnderSampler\n",
    "# Steps for pipeline\n",
    "param_test2 = {'max_depth':range(5,16,2), 'min_samples_split':range(200,1001,200)}\n",
    "gsearch2 = GridSearchCV(estimator = GradientBoostingClassifier(learning_rate=0.1, n_estimators=60, max_features='sqrt', subsample=0.8, random_state=10), \n",
    "param_grid = param_test2, scoring='roc_auc',n_jobs=4,iid=False, cv=5)\n",
    "# Training using CV\n",
    "gsearch2.fit(X_train, y_train)"
   ]
  },
  {
   "cell_type": "code",
   "execution_count": 39,
   "metadata": {},
   "outputs": [
    {
     "name": "stdout",
     "output_type": "stream",
     "text": [
      "best params is :  {'max_depth': 5, 'min_samples_split': 200}\n",
      "best score is :  1.0\n"
     ]
    }
   ],
   "source": [
    "print(\"best params is : \",gsearch2.best_params_)\n",
    "print(\"best score is : \", gsearch2.best_score_)"
   ]
  },
  {
   "cell_type": "code",
   "execution_count": 40,
   "metadata": {},
   "outputs": [],
   "source": [
    "from sklearn.metrics import roc_curve, auc, precision_recall_curve, cohen_kappa_score\n",
    "from sklearn import metrics"
   ]
  },
  {
   "cell_type": "code",
   "execution_count": 41,
   "metadata": {},
   "outputs": [],
   "source": [
    "y_pred_test = gsearch2.predict(X_test)\n",
    "y_pred_test_prob = gsearch2.predict_proba(X_test)"
   ]
  },
  {
   "cell_type": "code",
   "execution_count": 42,
   "metadata": {},
   "outputs": [
    {
     "name": "stdout",
     "output_type": "stream",
     "text": [
      "#####################\n",
      "Test data\n",
      "#####################\n",
      "F1:  1.0\n",
      "Cohen Kappa:  1.0\n",
      "Brier:  0.0\n",
      "              precision    recall  f1-score   support\n",
      "\n",
      "         0.0       1.00      1.00      1.00     11717\n",
      "         1.0       1.00      1.00      1.00     11718\n",
      "\n",
      "   micro avg       1.00      1.00      1.00     23435\n",
      "   macro avg       1.00      1.00      1.00     23435\n",
      "weighted avg       1.00      1.00      1.00     23435\n",
      "\n"
     ]
    }
   ],
   "source": [
    "y_pred_test = gsearch2.predict(X_test)\n",
    "#y_pred_test_prob = grid_search.predict_proba(X_test)\n",
    "print(\"#####################\")\n",
    "print(\"Test data\")\n",
    "print(\"#####################\")\n",
    "print(\"F1: \", metrics.f1_score(y_test, y_pred_test))\n",
    "print(\"Cohen Kappa: \", metrics.cohen_kappa_score(y_test, y_pred_test))\n",
    "print(\"Brier: \", metrics.brier_score_loss(y_test, y_pred_test))\n",
    "#print(\"LogLoss: \", metrics.log_loss(y_test, y_pred_test_prob))\n",
    "print(metrics.classification_report(y_test, y_pred_test))\n",
    "conf_matrix = metrics.confusion_matrix(y_test, y_pred_test)"
   ]
  },
  {
   "cell_type": "code",
   "execution_count": 43,
   "metadata": {},
   "outputs": [
    {
     "data": {
      "image/png": "[encoded data removed]",
      "text/plain": [
       "<Figure size 576x576 with 1 Axes>"
      ]
     },
     "metadata": {
      "needs_background": "light"
     },
     "output_type": "display_data"
    }
   ],
   "source": [
    "fig, ax = plt.subplots(figsize=(8, 8))\n",
    "ax.matshow(conf_matrix, alpha=0.3,cmap=plt.cm.gray_r)\n",
    "for i in range(conf_matrix.shape[0]):\n",
    "    for j in range(conf_matrix.shape[1]):\n",
    "        ax.text(x=j, y=i, s=conf_matrix[i, j], va='center', ha='center', fontsize=24,color ='k')\n",
    "plt.title('Confusion Matrix ', size=20)\n",
    "plt.xlabel('Predicted label', size=20)\n",
    "plt.ylabel('True label', size=20)\n",
    "ax.tick_params('x', labelsize = 20)\n",
    "ax.tick_params('y', labelsize = 20)\n",
    "plt.tight_layout()"
   ]
  },
  {
   "cell_type": "code",
   "execution_count": 18,
   "metadata": {},
   "outputs": [],
   "source": [
    "from sklearn.metrics import confusion_matrix"
   ]
  },
  {
   "cell_type": "code",
   "execution_count": 44,
   "metadata": {},
   "outputs": [
    {
     "data": {
      "text/plain": [
       "<matplotlib.legend.Legend at 0x1a1cee65f8>"
      ]
     },
     "execution_count": 44,
     "metadata": {},
     "output_type": "execute_result"
    },
    {
     "data": {
      "image/png": "[encoded data removed]",
      "text/plain": [
       "<Figure size 576x576 with 1 Axes>"
      ]
     },
     "metadata": {
      "needs_background": "light"
     },
     "output_type": "display_data"
    }
   ],
   "source": [
    "# ROC curve\n",
    "fig1, ax1 = plt.subplots(figsize=(8, 8))\n",
    "fpr, tpr, thresholds = roc_curve(y_test, y_pred_test_prob[:, 1])\n",
    "roc_auc = auc(fpr, tpr)\n",
    "plt.plot(fpr, tpr, lw=1, label='Model Performance (area = %0.2f)' % (roc_auc))\n",
    "plt.plot([0, 1], \n",
    "        [0, 1], \n",
    "        '--', \n",
    "        color=(0.6, 0.6, 0.6), \n",
    "        label='Luck')\n",
    "    \n",
    "plt.plot([0, 0, 1], \n",
    "        [0, 1, 1], \n",
    "        lw=2,\n",
    "        linestyle=':',\n",
    "        color='black',\n",
    "        label='Perfect Performance')\n",
    "        \n",
    "plt.xlim([-0.02, 1.02])\n",
    "plt.ylim([-0.02, 1.02])\n",
    "plt.xlabel('False Positive Rate', size=20)\n",
    "plt.ylabel('True Positive Rate', size=20)\n",
    "plt.title('Receiver Operating Characteristic', size=20)\n",
    "plt.xticks(size = 20)\n",
    "plt.yticks(size = 20)\n",
    "plt.legend(loc=\"lower right\", fontsize=18)\n",
    "   "
   ]
  },
  {
   "cell_type": "code",
   "execution_count": 45,
   "metadata": {},
   "outputs": [
    {
     "name": "stderr",
     "output_type": "stream",
     "text": [
      "/anaconda3/lib/python3.7/site-packages/matplotlib/legend.py:497: UserWarning: Unrecognized location \"top right\". Falling back on \"best\"; valid locations are\n",
      "\tbest\n",
      "\tupper right\n",
      "\tupper left\n",
      "\tlower left\n",
      "\tlower right\n",
      "\tright\n",
      "\tcenter left\n",
      "\tcenter right\n",
      "\tlower center\n",
      "\tupper center\n",
      "\tcenter\n",
      "\n",
      "  % (loc, '\\n\\t'.join(self.codes)))\n"
     ]
    },
    {
     "data": {
      "text/plain": [
       "<matplotlib.legend.Legend at 0x1a20741eb8>"
      ]
     },
     "execution_count": 45,
     "metadata": {},
     "output_type": "execute_result"
    },
    {
     "data": {
      "image/png": "[encoded data removed]",
      "text/plain": [
       "<Figure size 576x576 with 1 Axes>"
      ]
     },
     "metadata": {
      "needs_background": "light"
     },
     "output_type": "display_data"
    }
   ],
   "source": [
    "# PR curve\n",
    "fig2, ax2 = plt.subplots(figsize=(8, 8))\n",
    "prec, recall, thresholds = precision_recall_curve(y_test, y_pred_test_prob[:, 1])\n",
    "#pr_auc = auc(prec, recall)\n",
    "plt.plot(recall, prec, lw=1, label='Model Performance (area = %0.2f)' % \n",
    "             (metrics.average_precision_score(y_test, y_pred_test_prob[:, 1])))    \n",
    "plt.xlim([-0.02, 1.02])\n",
    "plt.ylim([-0.02, 1.02])\n",
    "plt.xlabel('Recall', size=20)\n",
    "plt.ylabel('Precision', size=20)\n",
    "plt.title('PR Curve for', size=20)\n",
    "plt.xticks(size = 20)\n",
    "plt.yticks(size = 20)\n",
    "plt.legend(loc=\"top right\", fontsize=18)"
   ]
  },
  {
   "cell_type": "code",
   "execution_count": null,
   "metadata": {},
   "outputs": [],
   "source": []
  }
 ],
 "metadata": {
  "kernelspec": {
   "display_name": "Python 3",
   "language": "python",
   "name": "python3"
  },
  "language_info": {
   "codemirror_mode": {
    "name": "ipython",
    "version": 3
   },
   "file_extension": ".py",
   "mimetype": "text/x-python",
   "name": "python",
   "nbconvert_exporter": "python",
   "pygments_lexer": "ipython3",
   "version": "3.7.1"
  }
 },
 "nbformat": 4,
 "nbformat_minor": 2
}
