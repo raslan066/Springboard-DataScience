{
 "cells": [
  {
   "cell_type": "code",
   "execution_count": 1,
   "metadata": {},
   "outputs": [],
   "source": [
    "import pandas as pd\n",
    "import numpy as np\n",
    "import operator\n",
    "import re\n",
    "from collections import OrderedDict\n",
    "import seaborn as sns\n",
    "import pickle\n",
    "\n",
    "import os.path\n",
    "from matplotlib.colors import ListedColormap\n",
    "import matplotlib.colors as colors\n",
    "import matplotlib.cm as cmx\n",
    "import matplotlib.pyplot as plt\n",
    "from pylab import rcParams\n",
    "from mpl_toolkits.basemap import Basemap\n",
    "from geopy.geocoders import Nominatim\n",
    "import math\n",
    "import warnings\n",
    "from scipy import stats\n",
    "warnings.filterwarnings('ignore')"
   ]
  },
  {
   "cell_type": "code",
   "execution_count": 2,
   "metadata": {},
   "outputs": [],
   "source": [
    "from numpy import array\n",
    "from numpy import argmax\n",
    "from sklearn.preprocessing import LabelEncoder\n",
    "from sklearn.preprocessing import OneHotEncoder"
   ]
  },
  {
   "cell_type": "code",
   "execution_count": 3,
   "metadata": {},
   "outputs": [],
   "source": [
    "df= pd.read_csv('Capstone 1 - Preparing Data(W&H).csv')"
   ]
  },
  {
   "cell_type": "code",
   "execution_count": 4,
   "metadata": {
    "scrolled": true
   },
   "outputs": [
    {
     "data": {
      "text/html": [
       "<div>\n",
       "<style scoped>\n",
       "    .dataframe tbody tr th:only-of-type {\n",
       "        vertical-align: middle;\n",
       "    }\n",
       "\n",
       "    .dataframe tbody tr th {\n",
       "        vertical-align: top;\n",
       "    }\n",
       "\n",
       "    .dataframe thead th {\n",
       "        text-align: right;\n",
       "    }\n",
       "</style>\n",
       "<table border=\"1\" class=\"dataframe\">\n",
       "  <thead>\n",
       "    <tr style=\"text-align: right;\">\n",
       "      <th></th>\n",
       "      <th>Unnamed: 0</th>\n",
       "      <th>Unnamed: 0.1</th>\n",
       "      <th>DATE</th>\n",
       "      <th>YEAR</th>\n",
       "      <th>MONTH</th>\n",
       "      <th>DAY</th>\n",
       "      <th>DAY_OF_WEEK</th>\n",
       "      <th>AIRLINE</th>\n",
       "      <th>FLIGHT_NUMBER</th>\n",
       "      <th>TAIL_NUMBER</th>\n",
       "      <th>...</th>\n",
       "      <th>ARRIVAL_DELAY</th>\n",
       "      <th>DIVERTED</th>\n",
       "      <th>CANCELLED</th>\n",
       "      <th>AIR_SYSTEM_DELAY</th>\n",
       "      <th>SECURITY_DELAY</th>\n",
       "      <th>AIRLINE_DELAY</th>\n",
       "      <th>LATE_AIRCRAFT_DELAY</th>\n",
       "      <th>WEATHER_DELAY</th>\n",
       "      <th>IsHoliday</th>\n",
       "      <th>Holiday</th>\n",
       "    </tr>\n",
       "  </thead>\n",
       "  <tbody>\n",
       "    <tr>\n",
       "      <th>0</th>\n",
       "      <td>0</td>\n",
       "      <td>0</td>\n",
       "      <td>2015-01-01 00:00:00</td>\n",
       "      <td>2015</td>\n",
       "      <td>1</td>\n",
       "      <td>1</td>\n",
       "      <td>4</td>\n",
       "      <td>AA</td>\n",
       "      <td>1112</td>\n",
       "      <td>N3LAAA</td>\n",
       "      <td>...</td>\n",
       "      <td>-13.0</td>\n",
       "      <td>0.0</td>\n",
       "      <td>0.0</td>\n",
       "      <td>NaN</td>\n",
       "      <td>NaN</td>\n",
       "      <td>NaN</td>\n",
       "      <td>NaN</td>\n",
       "      <td>NaN</td>\n",
       "      <td>1</td>\n",
       "      <td>New Year's Day</td>\n",
       "    </tr>\n",
       "    <tr>\n",
       "      <th>1</th>\n",
       "      <td>1</td>\n",
       "      <td>1</td>\n",
       "      <td>2015-01-01 00:00:00</td>\n",
       "      <td>2015</td>\n",
       "      <td>1</td>\n",
       "      <td>1</td>\n",
       "      <td>4</td>\n",
       "      <td>DL</td>\n",
       "      <td>1173</td>\n",
       "      <td>N826DN</td>\n",
       "      <td>...</td>\n",
       "      <td>-15.0</td>\n",
       "      <td>0.0</td>\n",
       "      <td>0.0</td>\n",
       "      <td>NaN</td>\n",
       "      <td>NaN</td>\n",
       "      <td>NaN</td>\n",
       "      <td>NaN</td>\n",
       "      <td>NaN</td>\n",
       "      <td>1</td>\n",
       "      <td>New Year's Day</td>\n",
       "    </tr>\n",
       "    <tr>\n",
       "      <th>2</th>\n",
       "      <td>2</td>\n",
       "      <td>2</td>\n",
       "      <td>2015-01-01 00:00:00</td>\n",
       "      <td>2015</td>\n",
       "      <td>1</td>\n",
       "      <td>1</td>\n",
       "      <td>4</td>\n",
       "      <td>DL</td>\n",
       "      <td>2336</td>\n",
       "      <td>N958DN</td>\n",
       "      <td>...</td>\n",
       "      <td>-30.0</td>\n",
       "      <td>0.0</td>\n",
       "      <td>0.0</td>\n",
       "      <td>NaN</td>\n",
       "      <td>NaN</td>\n",
       "      <td>NaN</td>\n",
       "      <td>NaN</td>\n",
       "      <td>NaN</td>\n",
       "      <td>1</td>\n",
       "      <td>New Year's Day</td>\n",
       "    </tr>\n",
       "    <tr>\n",
       "      <th>3</th>\n",
       "      <td>3</td>\n",
       "      <td>3</td>\n",
       "      <td>2015-01-01 00:00:00</td>\n",
       "      <td>2015</td>\n",
       "      <td>1</td>\n",
       "      <td>1</td>\n",
       "      <td>4</td>\n",
       "      <td>UA</td>\n",
       "      <td>1197</td>\n",
       "      <td>N78448</td>\n",
       "      <td>...</td>\n",
       "      <td>-7.0</td>\n",
       "      <td>0.0</td>\n",
       "      <td>0.0</td>\n",
       "      <td>NaN</td>\n",
       "      <td>NaN</td>\n",
       "      <td>NaN</td>\n",
       "      <td>NaN</td>\n",
       "      <td>NaN</td>\n",
       "      <td>1</td>\n",
       "      <td>New Year's Day</td>\n",
       "    </tr>\n",
       "    <tr>\n",
       "      <th>4</th>\n",
       "      <td>4</td>\n",
       "      <td>4</td>\n",
       "      <td>2015-01-01 00:00:00</td>\n",
       "      <td>2015</td>\n",
       "      <td>1</td>\n",
       "      <td>1</td>\n",
       "      <td>4</td>\n",
       "      <td>NK</td>\n",
       "      <td>214</td>\n",
       "      <td>N632NK</td>\n",
       "      <td>...</td>\n",
       "      <td>-1.0</td>\n",
       "      <td>0.0</td>\n",
       "      <td>0.0</td>\n",
       "      <td>NaN</td>\n",
       "      <td>NaN</td>\n",
       "      <td>NaN</td>\n",
       "      <td>NaN</td>\n",
       "      <td>NaN</td>\n",
       "      <td>1</td>\n",
       "      <td>New Year's Day</td>\n",
       "    </tr>\n",
       "  </tbody>\n",
       "</table>\n",
       "<p>5 rows × 73 columns</p>\n",
       "</div>"
      ],
      "text/plain": [
       "   Unnamed: 0  Unnamed: 0.1                 DATE  YEAR  MONTH  DAY  \\\n",
       "0           0             0  2015-01-01 00:00:00  2015      1    1   \n",
       "1           1             1  2015-01-01 00:00:00  2015      1    1   \n",
       "2           2             2  2015-01-01 00:00:00  2015      1    1   \n",
       "3           3             3  2015-01-01 00:00:00  2015      1    1   \n",
       "4           4             4  2015-01-01 00:00:00  2015      1    1   \n",
       "\n",
       "   DAY_OF_WEEK AIRLINE  FLIGHT_NUMBER TAIL_NUMBER  ... ARRIVAL_DELAY  \\\n",
       "0            4      AA           1112      N3LAAA  ...         -13.0   \n",
       "1            4      DL           1173      N826DN  ...         -15.0   \n",
       "2            4      DL           2336      N958DN  ...         -30.0   \n",
       "3            4      UA           1197      N78448  ...          -7.0   \n",
       "4            4      NK            214      N632NK  ...          -1.0   \n",
       "\n",
       "   DIVERTED  CANCELLED  AIR_SYSTEM_DELAY  SECURITY_DELAY AIRLINE_DELAY  \\\n",
       "0       0.0        0.0               NaN             NaN           NaN   \n",
       "1       0.0        0.0               NaN             NaN           NaN   \n",
       "2       0.0        0.0               NaN             NaN           NaN   \n",
       "3       0.0        0.0               NaN             NaN           NaN   \n",
       "4       0.0        0.0               NaN             NaN           NaN   \n",
       "\n",
       "   LATE_AIRCRAFT_DELAY  WEATHER_DELAY  IsHoliday         Holiday  \n",
       "0                  NaN            NaN          1  New Year's Day  \n",
       "1                  NaN            NaN          1  New Year's Day  \n",
       "2                  NaN            NaN          1  New Year's Day  \n",
       "3                  NaN            NaN          1  New Year's Day  \n",
       "4                  NaN            NaN          1  New Year's Day  \n",
       "\n",
       "[5 rows x 73 columns]"
      ]
     },
     "execution_count": 4,
     "metadata": {},
     "output_type": "execute_result"
    }
   ],
   "source": [
    "df.head()"
   ]
  },
  {
   "cell_type": "code",
   "execution_count": 5,
   "metadata": {},
   "outputs": [],
   "source": [
    "df.drop([\"Unnamed: 0\",\"Unnamed: 0.1\"], axis=1, inplace=True)"
   ]
  },
  {
   "cell_type": "code",
   "execution_count": 6,
   "metadata": {},
   "outputs": [],
   "source": [
    "from sklearn.model_selection import train_test_split"
   ]
  },
  {
   "cell_type": "code",
   "execution_count": 7,
   "metadata": {},
   "outputs": [],
   "source": [
    "X = df.drop([\"CANCELLED\"], axis=1)\n",
    "y = df.CANCELLED"
   ]
  },
  {
   "cell_type": "code",
   "execution_count": 8,
   "metadata": {},
   "outputs": [],
   "source": [
    "X_train, X_test, y_train, y_test = train_test_split(X, y, test_size=0.10, random_state=42)"
   ]
  },
  {
   "cell_type": "code",
   "execution_count": 9,
   "metadata": {},
   "outputs": [
    {
     "data": {
      "text/plain": [
       "(53319, 70)"
      ]
     },
     "execution_count": 9,
     "metadata": {},
     "output_type": "execute_result"
    }
   ],
   "source": [
    "X_test.shape"
   ]
  },
  {
   "cell_type": "code",
   "execution_count": 10,
   "metadata": {},
   "outputs": [],
   "source": [
    "df= pd.concat([X_test,y_test],axis=1)"
   ]
  },
  {
   "cell_type": "code",
   "execution_count": 11,
   "metadata": {},
   "outputs": [],
   "source": [
    "df.reset_index(inplace=True)"
   ]
  },
  {
   "cell_type": "code",
   "execution_count": 12,
   "metadata": {},
   "outputs": [],
   "source": [
    "df.drop([\"index\"], axis=1, inplace=True)"
   ]
  },
  {
   "cell_type": "code",
   "execution_count": 13,
   "metadata": {},
   "outputs": [
    {
     "data": {
      "text/plain": [
       "(53319, 71)"
      ]
     },
     "execution_count": 13,
     "metadata": {},
     "output_type": "execute_result"
    }
   ],
   "source": [
    "df.shape"
   ]
  },
  {
   "cell_type": "code",
   "execution_count": 14,
   "metadata": {},
   "outputs": [],
   "source": [
    "df.to_csv(\"Encoded_last.csv\")"
   ]
  },
  {
   "cell_type": "code",
   "execution_count": 15,
   "metadata": {},
   "outputs": [],
   "source": [
    "df=pd.read_csv(\"10%Data.csv\")"
   ]
  },
  {
   "cell_type": "code",
   "execution_count": 16,
   "metadata": {},
   "outputs": [],
   "source": [
    "import time"
   ]
  },
  {
   "cell_type": "code",
   "execution_count": 17,
   "metadata": {},
   "outputs": [
    {
     "data": {
      "text/plain": [
       "\"df['DATE']= pd.to_datetime(df.DATE)\\ndf['SCHEDULED_ARRIVAL_DT']= pd.to_datetime(df.SCHEDULED_ARRIVAL_DT)\\ndf['WHEELS_ON_DT']= pd.to_datetime(df.WHEELS_ON_DT)\\ndf['SCHEDULED_DEPARTURE_DT']= pd.to_datetime(df.SCHEDULED_DEPARTURE_DT)\\ndf['ARRIVAL_TIME_DT']= pd.to_datetime(df.ARRIVAL_TIME_DT)\\ndf['DEPARTURE_TIME_DT']= pd.to_datetime(df.DEPARTURE_TIME_DT)\\ndf['WHEELS_OFF_DT']= pd.to_datetime(df.WHEELS_OFF_DT)\""
      ]
     },
     "execution_count": 17,
     "metadata": {},
     "output_type": "execute_result"
    }
   ],
   "source": [
    "'''df['DATE']= pd.to_datetime(df.DATE)\n",
    "df['SCHEDULED_ARRIVAL_DT']= pd.to_datetime(df.SCHEDULED_ARRIVAL_DT)\n",
    "df['WHEELS_ON_DT']= pd.to_datetime(df.WHEELS_ON_DT)\n",
    "df['SCHEDULED_DEPARTURE_DT']= pd.to_datetime(df.SCHEDULED_DEPARTURE_DT)\n",
    "df['ARRIVAL_TIME_DT']= pd.to_datetime(df.ARRIVAL_TIME_DT)\n",
    "df['DEPARTURE_TIME_DT']= pd.to_datetime(df.DEPARTURE_TIME_DT)\n",
    "df['WHEELS_OFF_DT']= pd.to_datetime(df.WHEELS_OFF_DT)'''"
   ]
  },
  {
   "cell_type": "code",
   "execution_count": 18,
   "metadata": {},
   "outputs": [
    {
     "data": {
      "text/plain": [
       "\"df['DATE']=df.DATE.apply(lambda x:time.mktime(x.timetuple()))\\ndf['SCHEDULED_ARRIVAL_DT']=df.SCHEDULED_ARRIVAL_DT[df.SCHEDULED_ARRIVAL_DT.notnull()].apply(lambda x:time.mktime(x.timetuple()))\\ndf['WHEELS_ON_DT']=df.WHEELS_ON_DT[df.WHEELS_ON_DT.notnull()].apply(lambda x:time.mktime(x.timetuple()))\\ndf['SCHEDULED_DEPARTURE_DT']=df.SCHEDULED_DEPARTURE_DT[df.SCHEDULED_DEPARTURE_DT.notnull()].apply(lambda x:time.mktime(x.timetuple()))\\ndf['ARRIVAL_TIME_DT']=df.ARRIVAL_TIME_DT[df.ARRIVAL_TIME_DT.notnull()].apply(lambda x:time.mktime(x.timetuple()))\\ndf['DEPARTURE_TIME_DT']=df.DEPARTURE_TIME_DT[df.DEPARTURE_TIME_DT.notnull()].apply(lambda x:time.mktime(x.timetuple()))\\ndf['WHEELS_OFF_DT']=df.WHEELS_OFF_DT[df.WHEELS_OFF_DT.notnull()].apply(lambda x:time.mktime(x.timetuple()))\""
      ]
     },
     "execution_count": 18,
     "metadata": {},
     "output_type": "execute_result"
    }
   ],
   "source": [
    "'''df['DATE']=df.DATE.apply(lambda x:time.mktime(x.timetuple()))\n",
    "df['SCHEDULED_ARRIVAL_DT']=df.SCHEDULED_ARRIVAL_DT[df.SCHEDULED_ARRIVAL_DT.notnull()].apply(lambda x:time.mktime(x.timetuple()))\n",
    "df['WHEELS_ON_DT']=df.WHEELS_ON_DT[df.WHEELS_ON_DT.notnull()].apply(lambda x:time.mktime(x.timetuple()))\n",
    "df['SCHEDULED_DEPARTURE_DT']=df.SCHEDULED_DEPARTURE_DT[df.SCHEDULED_DEPARTURE_DT.notnull()].apply(lambda x:time.mktime(x.timetuple()))\n",
    "df['ARRIVAL_TIME_DT']=df.ARRIVAL_TIME_DT[df.ARRIVAL_TIME_DT.notnull()].apply(lambda x:time.mktime(x.timetuple()))\n",
    "df['DEPARTURE_TIME_DT']=df.DEPARTURE_TIME_DT[df.DEPARTURE_TIME_DT.notnull()].apply(lambda x:time.mktime(x.timetuple()))\n",
    "df['WHEELS_OFF_DT']=df.WHEELS_OFF_DT[df.WHEELS_OFF_DT.notnull()].apply(lambda x:time.mktime(x.timetuple()))'''"
   ]
  },
  {
   "cell_type": "code",
   "execution_count": 19,
   "metadata": {},
   "outputs": [
    {
     "data": {
      "text/plain": [
       "\"df['WHEELS_ON']= df.WHEELS_ON.str.slice(0,2)+df.WHEELS_ON.str.slice(3,5)\\ndf['ARRIVAL_TIME']= df.ARRIVAL_TIME.str.slice(0,2)+df.ARRIVAL_TIME.str.slice(3,5)\\ndf['SCHEDULED_ARRIVAL']= df.SCHEDULED_ARRIVAL.str.slice(0,2)+df.SCHEDULED_ARRIVAL.str.slice(3,5)\""
      ]
     },
     "execution_count": 19,
     "metadata": {},
     "output_type": "execute_result"
    }
   ],
   "source": [
    "'''df['WHEELS_ON']= df.WHEELS_ON.str.slice(0,2)+df.WHEELS_ON.str.slice(3,5)\n",
    "df['ARRIVAL_TIME']= df.ARRIVAL_TIME.str.slice(0,2)+df.ARRIVAL_TIME.str.slice(3,5)\n",
    "df['SCHEDULED_ARRIVAL']= df.SCHEDULED_ARRIVAL.str.slice(0,2)+df.SCHEDULED_ARRIVAL.str.slice(3,5)'''"
   ]
  },
  {
   "cell_type": "code",
   "execution_count": 20,
   "metadata": {
    "scrolled": true
   },
   "outputs": [],
   "source": [
    "num_cols = df._get_numeric_data().columns.tolist()"
   ]
  },
  {
   "cell_type": "code",
   "execution_count": 21,
   "metadata": {},
   "outputs": [],
   "source": [
    "cat_list = list(set(df.columns.tolist())-set(num_cols))"
   ]
  },
  {
   "cell_type": "code",
   "execution_count": 22,
   "metadata": {},
   "outputs": [
    {
     "data": {
      "text/plain": [
       "Index(['ORG_summary', 'DEST_precipType', 'AIRLINE', 'ORG_icon',\n",
       "       'DESTINATION_AIRPORT', 'ORIGIN_AIRPORT', 'ORG_precipType', 'DEST_icon',\n",
       "       'DEST_summary'],\n",
       "      dtype='object')"
      ]
     },
     "execution_count": 22,
     "metadata": {},
     "output_type": "execute_result"
    }
   ],
   "source": [
    "df[cat_list].columns"
   ]
  },
  {
   "cell_type": "code",
   "execution_count": 23,
   "metadata": {},
   "outputs": [],
   "source": [
    "df.drop([\"Unnamed: 0\"], inplace=True,axis=1)"
   ]
  },
  {
   "cell_type": "code",
   "execution_count": 24,
   "metadata": {},
   "outputs": [
    {
     "data": {
      "text/html": [
       "<div>\n",
       "<style scoped>\n",
       "    .dataframe tbody tr th:only-of-type {\n",
       "        vertical-align: middle;\n",
       "    }\n",
       "\n",
       "    .dataframe tbody tr th {\n",
       "        vertical-align: top;\n",
       "    }\n",
       "\n",
       "    .dataframe thead th {\n",
       "        text-align: right;\n",
       "    }\n",
       "</style>\n",
       "<table border=\"1\" class=\"dataframe\">\n",
       "  <thead>\n",
       "    <tr style=\"text-align: right;\">\n",
       "      <th></th>\n",
       "      <th>DATE</th>\n",
       "      <th>YEAR</th>\n",
       "      <th>MONTH</th>\n",
       "      <th>DAY</th>\n",
       "      <th>DAY_OF_WEEK</th>\n",
       "      <th>AIRLINE</th>\n",
       "      <th>FLIGHT_NUMBER</th>\n",
       "      <th>ORIGIN_AIRPORT</th>\n",
       "      <th>ORG_apparentTemperature</th>\n",
       "      <th>ORG_cloudCover</th>\n",
       "      <th>...</th>\n",
       "      <th>ARRIVAL_TIME_DT</th>\n",
       "      <th>ARRIVAL_DELAY</th>\n",
       "      <th>DIVERTED</th>\n",
       "      <th>CANCELLED</th>\n",
       "      <th>AIR_SYSTEM_DELAY</th>\n",
       "      <th>SECURITY_DELAY</th>\n",
       "      <th>AIRLINE_DELAY</th>\n",
       "      <th>LATE_AIRCRAFT_DELAY</th>\n",
       "      <th>WEATHER_DELAY</th>\n",
       "      <th>IsHoliday</th>\n",
       "    </tr>\n",
       "  </thead>\n",
       "  <tbody>\n",
       "    <tr>\n",
       "      <th>0</th>\n",
       "      <td>1.420092e+09</td>\n",
       "      <td>2015</td>\n",
       "      <td>1</td>\n",
       "      <td>1</td>\n",
       "      <td>4</td>\n",
       "      <td>AA</td>\n",
       "      <td>1112</td>\n",
       "      <td>SFO</td>\n",
       "      <td>45.08</td>\n",
       "      <td>0.00</td>\n",
       "      <td>...</td>\n",
       "      <td>1.420113e+09</td>\n",
       "      <td>-13.0</td>\n",
       "      <td>0.0</td>\n",
       "      <td>0.0</td>\n",
       "      <td>NaN</td>\n",
       "      <td>NaN</td>\n",
       "      <td>NaN</td>\n",
       "      <td>NaN</td>\n",
       "      <td>NaN</td>\n",
       "      <td>1</td>\n",
       "    </tr>\n",
       "    <tr>\n",
       "      <th>1</th>\n",
       "      <td>1.420092e+09</td>\n",
       "      <td>2015</td>\n",
       "      <td>1</td>\n",
       "      <td>1</td>\n",
       "      <td>4</td>\n",
       "      <td>DL</td>\n",
       "      <td>1173</td>\n",
       "      <td>LAS</td>\n",
       "      <td>34.23</td>\n",
       "      <td>0.83</td>\n",
       "      <td>...</td>\n",
       "      <td>1.420118e+09</td>\n",
       "      <td>-15.0</td>\n",
       "      <td>0.0</td>\n",
       "      <td>0.0</td>\n",
       "      <td>NaN</td>\n",
       "      <td>NaN</td>\n",
       "      <td>NaN</td>\n",
       "      <td>NaN</td>\n",
       "      <td>NaN</td>\n",
       "      <td>1</td>\n",
       "    </tr>\n",
       "    <tr>\n",
       "      <th>2</th>\n",
       "      <td>1.420092e+09</td>\n",
       "      <td>2015</td>\n",
       "      <td>1</td>\n",
       "      <td>1</td>\n",
       "      <td>4</td>\n",
       "      <td>DL</td>\n",
       "      <td>2336</td>\n",
       "      <td>DEN</td>\n",
       "      <td>6.92</td>\n",
       "      <td>0.00</td>\n",
       "      <td>...</td>\n",
       "      <td>1.420111e+09</td>\n",
       "      <td>-30.0</td>\n",
       "      <td>0.0</td>\n",
       "      <td>0.0</td>\n",
       "      <td>NaN</td>\n",
       "      <td>NaN</td>\n",
       "      <td>NaN</td>\n",
       "      <td>NaN</td>\n",
       "      <td>NaN</td>\n",
       "      <td>1</td>\n",
       "    </tr>\n",
       "    <tr>\n",
       "      <th>3</th>\n",
       "      <td>1.420092e+09</td>\n",
       "      <td>2015</td>\n",
       "      <td>1</td>\n",
       "      <td>1</td>\n",
       "      <td>4</td>\n",
       "      <td>UA</td>\n",
       "      <td>1197</td>\n",
       "      <td>SFO</td>\n",
       "      <td>45.08</td>\n",
       "      <td>0.00</td>\n",
       "      <td>...</td>\n",
       "      <td>1.420115e+09</td>\n",
       "      <td>-7.0</td>\n",
       "      <td>0.0</td>\n",
       "      <td>0.0</td>\n",
       "      <td>NaN</td>\n",
       "      <td>NaN</td>\n",
       "      <td>NaN</td>\n",
       "      <td>NaN</td>\n",
       "      <td>NaN</td>\n",
       "      <td>1</td>\n",
       "    </tr>\n",
       "    <tr>\n",
       "      <th>4</th>\n",
       "      <td>1.420092e+09</td>\n",
       "      <td>2015</td>\n",
       "      <td>1</td>\n",
       "      <td>1</td>\n",
       "      <td>4</td>\n",
       "      <td>NK</td>\n",
       "      <td>214</td>\n",
       "      <td>LAS</td>\n",
       "      <td>33.39</td>\n",
       "      <td>1.00</td>\n",
       "      <td>...</td>\n",
       "      <td>1.420112e+09</td>\n",
       "      <td>-1.0</td>\n",
       "      <td>0.0</td>\n",
       "      <td>0.0</td>\n",
       "      <td>NaN</td>\n",
       "      <td>NaN</td>\n",
       "      <td>NaN</td>\n",
       "      <td>NaN</td>\n",
       "      <td>NaN</td>\n",
       "      <td>1</td>\n",
       "    </tr>\n",
       "  </tbody>\n",
       "</table>\n",
       "<p>5 rows × 69 columns</p>\n",
       "</div>"
      ],
      "text/plain": [
       "           DATE  YEAR  MONTH  DAY  DAY_OF_WEEK AIRLINE  FLIGHT_NUMBER  \\\n",
       "0  1.420092e+09  2015      1    1            4      AA           1112   \n",
       "1  1.420092e+09  2015      1    1            4      DL           1173   \n",
       "2  1.420092e+09  2015      1    1            4      DL           2336   \n",
       "3  1.420092e+09  2015      1    1            4      UA           1197   \n",
       "4  1.420092e+09  2015      1    1            4      NK            214   \n",
       "\n",
       "  ORIGIN_AIRPORT  ORG_apparentTemperature  ORG_cloudCover  ...  \\\n",
       "0            SFO                    45.08            0.00  ...   \n",
       "1            LAS                    34.23            0.83  ...   \n",
       "2            DEN                     6.92            0.00  ...   \n",
       "3            SFO                    45.08            0.00  ...   \n",
       "4            LAS                    33.39            1.00  ...   \n",
       "\n",
       "   ARRIVAL_TIME_DT  ARRIVAL_DELAY DIVERTED  CANCELLED  AIR_SYSTEM_DELAY  \\\n",
       "0     1.420113e+09          -13.0      0.0        0.0               NaN   \n",
       "1     1.420118e+09          -15.0      0.0        0.0               NaN   \n",
       "2     1.420111e+09          -30.0      0.0        0.0               NaN   \n",
       "3     1.420115e+09           -7.0      0.0        0.0               NaN   \n",
       "4     1.420112e+09           -1.0      0.0        0.0               NaN   \n",
       "\n",
       "   SECURITY_DELAY AIRLINE_DELAY  LATE_AIRCRAFT_DELAY WEATHER_DELAY  IsHoliday  \n",
       "0             NaN           NaN                  NaN           NaN          1  \n",
       "1             NaN           NaN                  NaN           NaN          1  \n",
       "2             NaN           NaN                  NaN           NaN          1  \n",
       "3             NaN           NaN                  NaN           NaN          1  \n",
       "4             NaN           NaN                  NaN           NaN          1  \n",
       "\n",
       "[5 rows x 69 columns]"
      ]
     },
     "execution_count": 24,
     "metadata": {},
     "output_type": "execute_result"
    }
   ],
   "source": [
    "df.head()"
   ]
  },
  {
   "cell_type": "code",
   "execution_count": 25,
   "metadata": {},
   "outputs": [
    {
     "ename": "KeyError",
     "evalue": "\"['Unnamed: 0' 'Unnamed: 0.1' 'Unnamed: 0.1.1' 'Holiday' 'TAIL_NUMBER'] not found in axis\"",
     "output_type": "error",
     "traceback": [
      "\u001b[0;31m---------------------------------------------------------------------------\u001b[0m",
      "\u001b[0;31mKeyError\u001b[0m                                  Traceback (most recent call last)",
      "\u001b[0;32m<ipython-input-25-90048151efd5>\u001b[0m in \u001b[0;36m<module>\u001b[0;34m\u001b[0m\n\u001b[0;32m----> 1\u001b[0;31m \u001b[0mdf\u001b[0m\u001b[0;34m.\u001b[0m\u001b[0mdrop\u001b[0m\u001b[0;34m(\u001b[0m\u001b[0;34m[\u001b[0m\u001b[0;34m\"Unnamed: 0\"\u001b[0m\u001b[0;34m,\u001b[0m\u001b[0;34m'Unnamed: 0.1'\u001b[0m\u001b[0;34m,\u001b[0m\u001b[0;34m'Unnamed: 0.1.1'\u001b[0m\u001b[0;34m,\u001b[0m\u001b[0;34m'Holiday'\u001b[0m\u001b[0;34m,\u001b[0m\u001b[0;34m'TAIL_NUMBER'\u001b[0m\u001b[0;34m]\u001b[0m\u001b[0;34m,\u001b[0m \u001b[0minplace\u001b[0m\u001b[0;34m=\u001b[0m\u001b[0;32mTrue\u001b[0m\u001b[0;34m,\u001b[0m\u001b[0maxis\u001b[0m\u001b[0;34m=\u001b[0m\u001b[0;36m1\u001b[0m\u001b[0;34m)\u001b[0m\u001b[0;34m\u001b[0m\u001b[0;34m\u001b[0m\u001b[0m\n\u001b[0m",
      "\u001b[0;32m/anaconda3/lib/python3.7/site-packages/pandas/core/frame.py\u001b[0m in \u001b[0;36mdrop\u001b[0;34m(self, labels, axis, index, columns, level, inplace, errors)\u001b[0m\n\u001b[1;32m   3938\u001b[0m                                            \u001b[0mindex\u001b[0m\u001b[0;34m=\u001b[0m\u001b[0mindex\u001b[0m\u001b[0;34m,\u001b[0m \u001b[0mcolumns\u001b[0m\u001b[0;34m=\u001b[0m\u001b[0mcolumns\u001b[0m\u001b[0;34m,\u001b[0m\u001b[0;34m\u001b[0m\u001b[0;34m\u001b[0m\u001b[0m\n\u001b[1;32m   3939\u001b[0m                                            \u001b[0mlevel\u001b[0m\u001b[0;34m=\u001b[0m\u001b[0mlevel\u001b[0m\u001b[0;34m,\u001b[0m \u001b[0minplace\u001b[0m\u001b[0;34m=\u001b[0m\u001b[0minplace\u001b[0m\u001b[0;34m,\u001b[0m\u001b[0;34m\u001b[0m\u001b[0;34m\u001b[0m\u001b[0m\n\u001b[0;32m-> 3940\u001b[0;31m                                            errors=errors)\n\u001b[0m\u001b[1;32m   3941\u001b[0m \u001b[0;34m\u001b[0m\u001b[0m\n\u001b[1;32m   3942\u001b[0m     @rewrite_axis_style_signature('mapper', [('copy', True),\n",
      "\u001b[0;32m/anaconda3/lib/python3.7/site-packages/pandas/core/generic.py\u001b[0m in \u001b[0;36mdrop\u001b[0;34m(self, labels, axis, index, columns, level, inplace, errors)\u001b[0m\n\u001b[1;32m   3778\u001b[0m         \u001b[0;32mfor\u001b[0m \u001b[0maxis\u001b[0m\u001b[0;34m,\u001b[0m \u001b[0mlabels\u001b[0m \u001b[0;32min\u001b[0m \u001b[0maxes\u001b[0m\u001b[0;34m.\u001b[0m\u001b[0mitems\u001b[0m\u001b[0;34m(\u001b[0m\u001b[0;34m)\u001b[0m\u001b[0;34m:\u001b[0m\u001b[0;34m\u001b[0m\u001b[0;34m\u001b[0m\u001b[0m\n\u001b[1;32m   3779\u001b[0m             \u001b[0;32mif\u001b[0m \u001b[0mlabels\u001b[0m \u001b[0;32mis\u001b[0m \u001b[0;32mnot\u001b[0m \u001b[0;32mNone\u001b[0m\u001b[0;34m:\u001b[0m\u001b[0;34m\u001b[0m\u001b[0;34m\u001b[0m\u001b[0m\n\u001b[0;32m-> 3780\u001b[0;31m                 \u001b[0mobj\u001b[0m \u001b[0;34m=\u001b[0m \u001b[0mobj\u001b[0m\u001b[0;34m.\u001b[0m\u001b[0m_drop_axis\u001b[0m\u001b[0;34m(\u001b[0m\u001b[0mlabels\u001b[0m\u001b[0;34m,\u001b[0m \u001b[0maxis\u001b[0m\u001b[0;34m,\u001b[0m \u001b[0mlevel\u001b[0m\u001b[0;34m=\u001b[0m\u001b[0mlevel\u001b[0m\u001b[0;34m,\u001b[0m \u001b[0merrors\u001b[0m\u001b[0;34m=\u001b[0m\u001b[0merrors\u001b[0m\u001b[0;34m)\u001b[0m\u001b[0;34m\u001b[0m\u001b[0;34m\u001b[0m\u001b[0m\n\u001b[0m\u001b[1;32m   3781\u001b[0m \u001b[0;34m\u001b[0m\u001b[0m\n\u001b[1;32m   3782\u001b[0m         \u001b[0;32mif\u001b[0m \u001b[0minplace\u001b[0m\u001b[0;34m:\u001b[0m\u001b[0;34m\u001b[0m\u001b[0;34m\u001b[0m\u001b[0m\n",
      "\u001b[0;32m/anaconda3/lib/python3.7/site-packages/pandas/core/generic.py\u001b[0m in \u001b[0;36m_drop_axis\u001b[0;34m(self, labels, axis, level, errors)\u001b[0m\n\u001b[1;32m   3810\u001b[0m                 \u001b[0mnew_axis\u001b[0m \u001b[0;34m=\u001b[0m \u001b[0maxis\u001b[0m\u001b[0;34m.\u001b[0m\u001b[0mdrop\u001b[0m\u001b[0;34m(\u001b[0m\u001b[0mlabels\u001b[0m\u001b[0;34m,\u001b[0m \u001b[0mlevel\u001b[0m\u001b[0;34m=\u001b[0m\u001b[0mlevel\u001b[0m\u001b[0;34m,\u001b[0m \u001b[0merrors\u001b[0m\u001b[0;34m=\u001b[0m\u001b[0merrors\u001b[0m\u001b[0;34m)\u001b[0m\u001b[0;34m\u001b[0m\u001b[0;34m\u001b[0m\u001b[0m\n\u001b[1;32m   3811\u001b[0m             \u001b[0;32melse\u001b[0m\u001b[0;34m:\u001b[0m\u001b[0;34m\u001b[0m\u001b[0;34m\u001b[0m\u001b[0m\n\u001b[0;32m-> 3812\u001b[0;31m                 \u001b[0mnew_axis\u001b[0m \u001b[0;34m=\u001b[0m \u001b[0maxis\u001b[0m\u001b[0;34m.\u001b[0m\u001b[0mdrop\u001b[0m\u001b[0;34m(\u001b[0m\u001b[0mlabels\u001b[0m\u001b[0;34m,\u001b[0m \u001b[0merrors\u001b[0m\u001b[0;34m=\u001b[0m\u001b[0merrors\u001b[0m\u001b[0;34m)\u001b[0m\u001b[0;34m\u001b[0m\u001b[0;34m\u001b[0m\u001b[0m\n\u001b[0m\u001b[1;32m   3813\u001b[0m             \u001b[0mresult\u001b[0m \u001b[0;34m=\u001b[0m \u001b[0mself\u001b[0m\u001b[0;34m.\u001b[0m\u001b[0mreindex\u001b[0m\u001b[0;34m(\u001b[0m\u001b[0;34m**\u001b[0m\u001b[0;34m{\u001b[0m\u001b[0maxis_name\u001b[0m\u001b[0;34m:\u001b[0m \u001b[0mnew_axis\u001b[0m\u001b[0;34m}\u001b[0m\u001b[0;34m)\u001b[0m\u001b[0;34m\u001b[0m\u001b[0;34m\u001b[0m\u001b[0m\n\u001b[1;32m   3814\u001b[0m \u001b[0;34m\u001b[0m\u001b[0m\n",
      "\u001b[0;32m/anaconda3/lib/python3.7/site-packages/pandas/core/indexes/base.py\u001b[0m in \u001b[0;36mdrop\u001b[0;34m(self, labels, errors)\u001b[0m\n\u001b[1;32m   4963\u001b[0m             \u001b[0;32mif\u001b[0m \u001b[0merrors\u001b[0m \u001b[0;34m!=\u001b[0m \u001b[0;34m'ignore'\u001b[0m\u001b[0;34m:\u001b[0m\u001b[0;34m\u001b[0m\u001b[0;34m\u001b[0m\u001b[0m\n\u001b[1;32m   4964\u001b[0m                 raise KeyError(\n\u001b[0;32m-> 4965\u001b[0;31m                     '{} not found in axis'.format(labels[mask]))\n\u001b[0m\u001b[1;32m   4966\u001b[0m             \u001b[0mindexer\u001b[0m \u001b[0;34m=\u001b[0m \u001b[0mindexer\u001b[0m\u001b[0;34m[\u001b[0m\u001b[0;34m~\u001b[0m\u001b[0mmask\u001b[0m\u001b[0;34m]\u001b[0m\u001b[0;34m\u001b[0m\u001b[0;34m\u001b[0m\u001b[0m\n\u001b[1;32m   4967\u001b[0m         \u001b[0;32mreturn\u001b[0m \u001b[0mself\u001b[0m\u001b[0;34m.\u001b[0m\u001b[0mdelete\u001b[0m\u001b[0;34m(\u001b[0m\u001b[0mindexer\u001b[0m\u001b[0;34m)\u001b[0m\u001b[0;34m\u001b[0m\u001b[0;34m\u001b[0m\u001b[0m\n",
      "\u001b[0;31mKeyError\u001b[0m: \"['Unnamed: 0' 'Unnamed: 0.1' 'Unnamed: 0.1.1' 'Holiday' 'TAIL_NUMBER'] not found in axis\""
     ]
    }
   ],
   "source": [
    "df.drop([\"Unnamed: 0\",'Unnamed: 0.1','Unnamed: 0.1.1','Holiday','TAIL_NUMBER'], inplace=True,axis=1)"
   ]
  },
  {
   "cell_type": "code",
   "execution_count": null,
   "metadata": {},
   "outputs": [],
   "source": [
    "dummies = pd.get_dummies(df[cat_list],dummy_na=True, sparse=True)"
   ]
  },
  {
   "cell_type": "code",
   "execution_count": null,
   "metadata": {},
   "outputs": [],
   "source": [
    "dummies.shape"
   ]
  },
  {
   "cell_type": "code",
   "execution_count": null,
   "metadata": {},
   "outputs": [],
   "source": [
    "#dummies.to_csv('to_dummies.csv')"
   ]
  },
  {
   "cell_type": "code",
   "execution_count": null,
   "metadata": {},
   "outputs": [],
   "source": [
    "#dummies10 = pd.get_dummies(df[cat_list[10]], sparse=True)"
   ]
  },
  {
   "cell_type": "code",
   "execution_count": null,
   "metadata": {},
   "outputs": [],
   "source": [
    "df = pd.concat([df,pd.get_dummies(df[cat_list],dummy_na=True,drop_first=True)],axis=1).drop(cat_list,axis=1)\n"
   ]
  },
  {
   "cell_type": "code",
   "execution_count": null,
   "metadata": {},
   "outputs": [],
   "source": [
    "df.head()"
   ]
  },
  {
   "cell_type": "code",
   "execution_count": null,
   "metadata": {},
   "outputs": [],
   "source": [
    "from sklearn import preprocessing"
   ]
  },
  {
   "cell_type": "code",
   "execution_count": null,
   "metadata": {},
   "outputs": [],
   "source": [
    "scaler = preprocessing.StandardScaler()\n",
    "scaled_df = scaler.fit_transform(df)"
   ]
  },
  {
   "cell_type": "code",
   "execution_count": null,
   "metadata": {},
   "outputs": [],
   "source": [
    "df.head()"
   ]
  },
  {
   "cell_type": "code",
   "execution_count": null,
   "metadata": {},
   "outputs": [],
   "source": [
    "scaled_df.to_csv('Scaled.csv')"
   ]
  },
  {
   "cell_type": "code",
   "execution_count": null,
   "metadata": {},
   "outputs": [],
   "source": []
  },
  {
   "cell_type": "code",
   "execution_count": null,
   "metadata": {},
   "outputs": [],
   "source": []
  },
  {
   "cell_type": "code",
   "execution_count": null,
   "metadata": {},
   "outputs": [],
   "source": []
  },
  {
   "cell_type": "code",
   "execution_count": null,
   "metadata": {},
   "outputs": [],
   "source": []
  },
  {
   "cell_type": "code",
   "execution_count": null,
   "metadata": {},
   "outputs": [],
   "source": [
    "from sklearn.preprocessing import LabelEncoder\n",
    "label_encoder = LabelEncoder()\n",
    "cat = df[cat_list].astype(str).apply(label_encoder.fit_transform)"
   ]
  },
  {
   "cell_type": "code",
   "execution_count": null,
   "metadata": {},
   "outputs": [],
   "source": [
    "df.drop(cat_list, axis=1,inplace=True)"
   ]
  },
  {
   "cell_type": "code",
   "execution_count": null,
   "metadata": {},
   "outputs": [],
   "source": [
    "df = pd.concat([df, cat], axis=1)"
   ]
  },
  {
   "cell_type": "code",
   "execution_count": null,
   "metadata": {},
   "outputs": [],
   "source": [
    "X = df.drop([\"CANCELLED\"], axis=1).values\n",
    "y = df.CANCELLED.astype(int).values\n"
   ]
  },
  {
   "cell_type": "code",
   "execution_count": null,
   "metadata": {},
   "outputs": [],
   "source": [
    "from sklearn.preprocessing import Imputer\n",
    "im = Imputer(missing_values='NaN', strategy ='mean', axis=0)\n",
    "im.fit(X)\n",
    "X=im.transform(X)\n"
   ]
  },
  {
   "cell_type": "code",
   "execution_count": null,
   "metadata": {},
   "outputs": [],
   "source": []
  },
  {
   "cell_type": "code",
   "execution_count": null,
   "metadata": {},
   "outputs": [],
   "source": [
    "# 10% of the data\n",
    "X= X_train\n",
    "y= y_train"
   ]
  },
  {
   "cell_type": "code",
   "execution_count": null,
   "metadata": {},
   "outputs": [],
   "source": [
    "X_train,X_test, y_train,y_test = train_test_split(X,y,random_state=24,stratify=y,test_size=0.3)"
   ]
  },
  {
   "cell_type": "code",
   "execution_count": null,
   "metadata": {},
   "outputs": [],
   "source": [
    "%%time\n",
    "from sklearn.linear_model import LogisticRegression\n",
    "from sklearn.preprocessing import MinMaxScaler\n",
    "from sklearn.model_selection import GridSearchCV\n",
    "from imblearn.pipeline import Pipeline as pl\n",
    "from imblearn.under_sampling import RandomUnderSampler\n",
    "# Steps for pipeline\n",
    "steps = [(\"scaler\", MinMaxScaler(feature_range=(0,1))),\n",
    "         (\"model\", LogisticRegression(random_state=40))]\n",
    "pipe = pl(steps)\n",
    "\n",
    "# Parameters\n",
    "param_grid = dict(model__C = [1e-8, 1e-7, 1e-6, 1e-5, 1e-4, 1e-3, 1e-2, 1e-1],\n",
    "                  model__penalty = ['l1', 'l2'],\n",
    "                  model__class_weight = ['balanced']\n",
    "                  )\n",
    "# For CV in grid search\n",
    "cv = StratifiedShuffleSplit(n_splits = 5, test_size = 0.2, random_state = 20)\n",
    "\n",
    "# Setting up the grid search\n",
    "LRcw = GridSearchCV(pipe, param_grid = param_grid, \n",
    "                           verbose = 3,\n",
    "                           cv = cv,\n",
    "                          n_jobs=-1,\n",
    "                          scoring='average_precision',\n",
    "                          iid=False)\n",
    "# Training using CV\n",
    "LRcw.fit(X_train, y_train)"
   ]
  },
  {
   "cell_type": "code",
   "execution_count": null,
   "metadata": {},
   "outputs": [],
   "source": [
    "LRrusPR.score(X_test,y_test)"
   ]
  },
  {
   "cell_type": "code",
   "execution_count": null,
   "metadata": {},
   "outputs": [],
   "source": [
    "LRrusPR.best_params_"
   ]
  },
  {
   "cell_type": "code",
   "execution_count": null,
   "metadata": {},
   "outputs": [],
   "source": [
    "from sklearn import metrics\n",
    "from sklearn.metrics import roc_curve, auc, precision_recall_curve, cohen_kappa_score"
   ]
  },
  {
   "cell_type": "code",
   "execution_count": null,
   "metadata": {},
   "outputs": [],
   "source": [
    "y_pred_train = LRrusPR.predict(X_train) # class prediction\n",
    "y_pred_train_prob = LRrusPR.predict_proba(X_train) # probability of each class prediction\n",
    "print(\"#####################\")\n",
    "print(\"Train data\")\n",
    "print(\"#####################\")\n",
    "print(\"F1: \", metrics.f1_score(y_train, y_pred_train))\n",
    "print(\"Cohen Kappa: \", metrics.cohen_kappa_score(y_train, y_pred_train))\n",
    "print(\"Brier: \", metrics.brier_score_loss(y_train, y_pred_train))\n",
    "print(\"LogLoss: \", metrics.log_loss(y_train, y_pred_train_prob))\n",
    "print(metrics.classification_report(y_train, y_pred_train))\n",
    "print(metrics.confusion_matrix(y_train, y_pred_train))"
   ]
  },
  {
   "cell_type": "code",
   "execution_count": null,
   "metadata": {},
   "outputs": [],
   "source": [
    "y_pred_test = LRrusPR.predict(X_test)\n",
    "y_pred_test_prob = LRrusPR.predict_proba(X_test)\n",
    "print(\"#####################\")\n",
    "print(\"Test data\")\n",
    "print(\"#####################\")\n",
    "print(\"F1: \", metrics.f1_score(y_test, y_pred_test))\n",
    "print(\"Cohen Kappa: \", metrics.cohen_kappa_score(y_test, y_pred_test))\n",
    "print(\"Brier: \", metrics.brier_score_loss(y_test, y_pred_test))\n",
    "print(\"LogLoss: \", metrics.log_loss(y_test, y_pred_test_prob))\n",
    "print(metrics.classification_report(y_test, y_pred_test))\n",
    "conf_matrix = metrics.confusion_matrix(y_test, y_pred_test)"
   ]
  },
  {
   "cell_type": "code",
   "execution_count": null,
   "metadata": {},
   "outputs": [],
   "source": [
    "fig, ax = plt.subplots(figsize=(8, 8))\n",
    "ax.matshow(conf_matrix, cmap=plt.cm.Oranges, alpha=0.3)\n",
    "for i in range(conf_matrix.shape[0]):\n",
    "    for j in range(conf_matrix.shape[1]):\n",
    "        ax.text(x=j, y=i, s=conf_matrix[i, j], va='center', ha='center', fontsize=24)\n",
    "plt.title('Confusion Matrix ', size=20)\n",
    "plt.xlabel('Predicted label', size=20)\n",
    "plt.ylabel('True label', size=20)\n",
    "ax.tick_params('x', labelsize = 20)\n",
    "ax.tick_params('y', labelsize = 20)\n",
    "plt.tight_layout()"
   ]
  },
  {
   "cell_type": "code",
   "execution_count": null,
   "metadata": {},
   "outputs": [],
   "source": [
    "# ROC curve\n",
    "fig1, ax1 = plt.subplots(figsize=(8, 8))\n",
    "fpr, tpr, thresholds = roc_curve(y_test, y_pred_test_prob[:, 1])\n",
    "roc_auc = auc(fpr, tpr)\n",
    "plt.plot(fpr, tpr, lw=1, label='Model Performance (area = %0.2f)' % (roc_auc))\n",
    "plt.plot([0, 1], \n",
    "            [0, 1], \n",
    "             '--', \n",
    "             color=(0.6, 0.6, 0.6), \n",
    "             label='Luck')\n",
    "    \n",
    "plt.plot([0, 0, 1], \n",
    "             [0, 1, 1], \n",
    "             lw=2,\n",
    "             linestyle=':',\n",
    "             color='black',\n",
    "             label='Perfect Performance')\n",
    "        \n",
    "plt.xlim([-0.02, 1.02])\n",
    "plt.ylim([-0.02, 1.02])\n",
    "plt.xlabel('False Positive Rate', size=20)\n",
    "plt.ylabel('True Positive Rate', size=20)\n",
    "plt.title('Receiver Operating Characteristic for %s' % \"LR, RUS, PR AUC\", size=20)\n",
    "plt.xticks(size = 20)\n",
    "plt.yticks(size = 20)\n",
    "plt.legend(loc=\"lower right\", fontsize=18)\n",
    "    \n",
    "    "
   ]
  },
  {
   "cell_type": "code",
   "execution_count": null,
   "metadata": {},
   "outputs": [],
   "source": [
    "# PR curve\n",
    "fig2, ax2 = plt.subplots(figsize=(8, 8))\n",
    "prec, recall, thresholds = precision_recall_curve(y_test, y_pred_test_prob[:, 1])\n",
    "#pr_auc = auc(prec, recall)\n",
    "plt.plot(recall, prec, lw=1, label='Model Performance (area = %0.2f)' % \n",
    "             (metrics.average_precision_score(y_test, y_pred_test_prob[:, 1])))    \n",
    "plt.xlim([-0.02, 1.02])\n",
    "plt.ylim([-0.02, 1.02])\n",
    "plt.xlabel('Recall', size=20)\n",
    "plt.ylabel('Precision', size=20)\n",
    "plt.title('PR Curve for %s' %  \"LR, RUS, PR AUC\", size=20)\n",
    "plt.xticks(size = 20)\n",
    "plt.yticks(size = 20)\n",
    "plt.legend(loc=\"top right\", fontsize=18)"
   ]
  },
  {
   "cell_type": "code",
   "execution_count": null,
   "metadata": {},
   "outputs": [],
   "source": [
    "\n",
    "corrs = df.corr().abs().stack()"
   ]
  },
  {
   "cell_type": "code",
   "execution_count": null,
   "metadata": {},
   "outputs": [],
   "source": [
    "corrs[(corrs > 0.9) & (corrs != 1.0)].sort_values(ascending=True)"
   ]
  },
  {
   "cell_type": "code",
   "execution_count": null,
   "metadata": {},
   "outputs": [],
   "source": []
  }
 ],
 "metadata": {
  "kernelspec": {
   "display_name": "Python 3",
   "language": "python",
   "name": "python3"
  },
  "language_info": {
   "codemirror_mode": {
    "name": "ipython",
    "version": 3
   },
   "file_extension": ".py",
   "mimetype": "text/x-python",
   "name": "python",
   "nbconvert_exporter": "python",
   "pygments_lexer": "ipython3",
   "version": "3.7.1"
  }
 },
 "nbformat": 4,
 "nbformat_minor": 2
}
