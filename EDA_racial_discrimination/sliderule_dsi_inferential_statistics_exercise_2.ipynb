{
 "cells": [
  {
   "cell_type": "markdown",
   "metadata": {},
   "source": [
    "# Examining Racial Discrimination in the US Job Market\n",
    "\n",
    "### Background\n",
    "Racial discrimination continues to be pervasive in cultures throughout the world. Researchers examined the level of racial discrimination in the United States labor market by randomly assigning identical résumés to black-sounding or white-sounding names and observing the impact on requests for interviews from employers.\n",
    "\n",
    "### Data\n",
    "In the dataset provided, each row represents a resume. The 'race' column has two values, 'b' and 'w', indicating black-sounding and white-sounding. The column 'call' has two values, 1 and 0, indicating whether the resume received a call from employers or not.\n",
    "\n",
    "Note that the 'b' and 'w' values in race are assigned randomly to the resumes when presented to the employer."
   ]
  },
  {
   "cell_type": "markdown",
   "metadata": {},
   "source": [
    "### Exercises\n",
    "You will perform a statistical analysis to establish whether race has a significant impact on the rate of callbacks for resumes.\n",
    "\n",
    "Answer the following questions **in this notebook below and submit to your Github account**. \n",
    "\n",
    "   1. What test is appropriate for this problem? Does CLT apply?\n",
    "   2. What are the null and alternate hypotheses?\n",
    "   3. Compute margin of error, confidence interval, and p-value. Try using both the bootstrapping and the frequentist statistical approaches.\n",
    "   4. Write a story describing the statistical significance in the context or the original problem.\n",
    "   5. Does your analysis mean that race/name is the most important factor in callback success? Why or why not? If not, how would you amend your analysis?\n",
    "\n",
    "You can include written notes in notebook cells using Markdown: \n",
    "   - In the control panel at the top, choose Cell > Cell Type > Markdown\n",
    "   - Markdown syntax: http://nestacms.com/docs/creating-content/markdown-cheat-sheet\n",
    "\n",
    "#### Resources\n",
    "+ Experiment information and data source: http://www.povertyactionlab.org/evaluation/discrimination-job-market-united-states\n",
    "+ Scipy statistical methods: http://docs.scipy.org/doc/scipy/reference/stats.html \n",
    "+ Markdown syntax: http://nestacms.com/docs/creating-content/markdown-cheat-sheet\n",
    "+ Formulas for the Bernoulli distribution: https://en.wikipedia.org/wiki/Bernoulli_distribution"
   ]
  },
  {
   "cell_type": "code",
   "execution_count": 1,
   "metadata": {},
   "outputs": [],
   "source": [
    "import numpy as np\n",
    "import pandas as pd\n",
    "import matplotlib.pyplot as plt\n",
    "import matplotlib.mlab as mlab\n",
    "import seaborn as sns\n",
    "import scipy.stats as stats\n",
    "import pylab\n",
    "\n",
    "# matplotlib setup\n",
    "%matplotlib inline"
   ]
  },
  {
   "cell_type": "code",
   "execution_count": 2,
   "metadata": {},
   "outputs": [],
   "source": [
    "data = pd.io.stata.read_stata('data/us_job_market_discrimination.dta')"
   ]
  },
  {
   "cell_type": "code",
   "execution_count": 3,
   "metadata": {},
   "outputs": [],
   "source": [
    "#This function will be used quite often \n",
    "\n",
    "def ecdf(data):\n",
    "    \"\"\"Compute ECDF for a one-dimensional array of measurements.\"\"\"\n",
    "\n",
    "    # Number of data points: n\n",
    "    n = len(data)\n",
    "\n",
    "    # x: sort the data\n",
    "    x = np.sort(data)\n",
    "\n",
    "    # y: range for y-axis\n",
    "    y = np.arange(1, n+1) / n\n",
    "\n",
    "    return x, y\n",
    "\n",
    "def bootstrap(df, size):\n",
    "    np.random.seed(42)\n",
    "    size = 10000\n",
    "    bs_replicates_m = np.empty(size)\n",
    "\n",
    "    for i in range(size):\n",
    "        bs_sample_m = np.random.choice(df, len(df))\n",
    "        bs_replicates_m[i] = np.mean(bs_sample_m)\n",
    "    return bs_replicates_m"
   ]
  },
  {
   "cell_type": "markdown",
   "metadata": {},
   "source": [
    "<div class=\"span5 alert alert-info\">\n",
    "<p><h3>Running some basic statistics on the dataset</h3></p>\n",
    "</div> \n"
   ]
  },
  {
   "cell_type": "code",
   "execution_count": 4,
   "metadata": {
    "scrolled": false
   },
   "outputs": [
    {
     "data": {
      "text/html": [
       "<div>\n",
       "<style scoped>\n",
       "    .dataframe tbody tr th:only-of-type {\n",
       "        vertical-align: middle;\n",
       "    }\n",
       "\n",
       "    .dataframe tbody tr th {\n",
       "        vertical-align: top;\n",
       "    }\n",
       "\n",
       "    .dataframe thead tr th {\n",
       "        text-align: left;\n",
       "    }\n",
       "\n",
       "    .dataframe thead tr:last-of-type th {\n",
       "        text-align: right;\n",
       "    }\n",
       "</style>\n",
       "<table border=\"1\" class=\"dataframe\">\n",
       "  <thead>\n",
       "    <tr>\n",
       "      <th></th>\n",
       "      <th colspan=\"8\" halign=\"left\">call</th>\n",
       "    </tr>\n",
       "    <tr>\n",
       "      <th></th>\n",
       "      <th>count</th>\n",
       "      <th>mean</th>\n",
       "      <th>std</th>\n",
       "      <th>min</th>\n",
       "      <th>25%</th>\n",
       "      <th>50%</th>\n",
       "      <th>75%</th>\n",
       "      <th>max</th>\n",
       "    </tr>\n",
       "    <tr>\n",
       "      <th>race</th>\n",
       "      <th></th>\n",
       "      <th></th>\n",
       "      <th></th>\n",
       "      <th></th>\n",
       "      <th></th>\n",
       "      <th></th>\n",
       "      <th></th>\n",
       "      <th></th>\n",
       "    </tr>\n",
       "  </thead>\n",
       "  <tbody>\n",
       "    <tr>\n",
       "      <th>b</th>\n",
       "      <td>2435.0</td>\n",
       "      <td>0.064476</td>\n",
       "      <td>0.245649</td>\n",
       "      <td>0.0</td>\n",
       "      <td>0.0</td>\n",
       "      <td>0.0</td>\n",
       "      <td>0.0</td>\n",
       "      <td>1.0</td>\n",
       "    </tr>\n",
       "    <tr>\n",
       "      <th>w</th>\n",
       "      <td>2435.0</td>\n",
       "      <td>0.096509</td>\n",
       "      <td>0.295346</td>\n",
       "      <td>0.0</td>\n",
       "      <td>0.0</td>\n",
       "      <td>0.0</td>\n",
       "      <td>0.0</td>\n",
       "      <td>1.0</td>\n",
       "    </tr>\n",
       "  </tbody>\n",
       "</table>\n",
       "</div>"
      ],
      "text/plain": [
       "        call                                             \n",
       "       count      mean       std  min  25%  50%  75%  max\n",
       "race                                                     \n",
       "b     2435.0  0.064476  0.245649  0.0  0.0  0.0  0.0  1.0\n",
       "w     2435.0  0.096509  0.295346  0.0  0.0  0.0  0.0  1.0"
      ]
     },
     "execution_count": 4,
     "metadata": {},
     "output_type": "execute_result"
    }
   ],
   "source": [
    "data[['call']].groupby(data.race).describe()"
   ]
  },
  {
   "cell_type": "code",
   "execution_count": 5,
   "metadata": {
    "scrolled": true
   },
   "outputs": [
    {
     "name": "stdout",
     "output_type": "stream",
     "text": [
      "Number of callbacks for white-sounding names 235.0\n",
      "Number of callbacks for black-sounding names 157.0\n"
     ]
    }
   ],
   "source": [
    "# number of callbacks for black-sounding names\n",
    "\n",
    "print('Number of callbacks for white-sounding names {}'.format(sum(data[data.race=='w'].call)))\n",
    "print('Number of callbacks for black-sounding names {}'.format(sum(data[data.race=='b'].call)))"
   ]
  },
  {
   "cell_type": "markdown",
   "metadata": {},
   "source": [
    "<div class=\"span5 alert alert-info\">\n",
    "<p><h3>There are equal number of W and B races and equal probability of being called. </h3></p>\n",
    "</div> \n"
   ]
  },
  {
   "cell_type": "code",
   "execution_count": 15,
   "metadata": {
    "scrolled": true
   },
   "outputs": [
    {
     "name": "stdout",
     "output_type": "stream",
     "text": [
      "Number of W 2435\n",
      "Number of B 2435\n",
      "Percent of W 50.0 %\n",
      "Percent of B 50.0 %\n"
     ]
    }
   ],
   "source": [
    "print('Number of W {}'.format(data.race[data.race=='w'].count()))\n",
    "print('Number of B {}'.format(data.race[data.race=='b'].count()))\n",
    "\n",
    "print('Percent of W {} %'.format(data.race[data.race=='w'].count()/data.shape[0]*100))\n",
    "print('Percent of B {} %'.format(data.race[data.race=='b'].count()/data.shape[0]*100))"
   ]
  },
  {
   "cell_type": "markdown",
   "metadata": {},
   "source": [
    "<div class=\"span5 alert alert-info\">\n",
    "<p><h3>Finding the number and percentage of call for each names.</h3></p>\n",
    "</div> \n"
   ]
  },
  {
   "cell_type": "code",
   "execution_count": 7,
   "metadata": {
    "scrolled": true
   },
   "outputs": [
    {
     "data": {
      "text/html": [
       "<div>\n",
       "<style scoped>\n",
       "    .dataframe tbody tr th:only-of-type {\n",
       "        vertical-align: middle;\n",
       "    }\n",
       "\n",
       "    .dataframe tbody tr th {\n",
       "        vertical-align: top;\n",
       "    }\n",
       "\n",
       "    .dataframe thead th {\n",
       "        text-align: right;\n",
       "    }\n",
       "</style>\n",
       "<table border=\"1\" class=\"dataframe\">\n",
       "  <thead>\n",
       "    <tr style=\"text-align: right;\">\n",
       "      <th></th>\n",
       "      <th>CB</th>\n",
       "      <th>No CB</th>\n",
       "      <th>Total</th>\n",
       "      <th>% Success</th>\n",
       "    </tr>\n",
       "  </thead>\n",
       "  <tbody>\n",
       "    <tr>\n",
       "      <th>White-sounding names</th>\n",
       "      <td>235.0</td>\n",
       "      <td>2200.0</td>\n",
       "      <td>2435.0</td>\n",
       "      <td>0.096509</td>\n",
       "    </tr>\n",
       "    <tr>\n",
       "      <th>Black-sounding names</th>\n",
       "      <td>157.0</td>\n",
       "      <td>2278.0</td>\n",
       "      <td>2435.0</td>\n",
       "      <td>0.064476</td>\n",
       "    </tr>\n",
       "    <tr>\n",
       "      <th>Aggregate</th>\n",
       "      <td>392.0</td>\n",
       "      <td>4870.0</td>\n",
       "      <td>4870.0</td>\n",
       "      <td>0.080493</td>\n",
       "    </tr>\n",
       "  </tbody>\n",
       "</table>\n",
       "</div>"
      ],
      "text/plain": [
       "                         CB   No CB   Total  % Success\n",
       "White-sounding names  235.0  2200.0  2435.0   0.096509\n",
       "Black-sounding names  157.0  2278.0  2435.0   0.064476\n",
       "Aggregate             392.0  4870.0  4870.0   0.080493"
      ]
     },
     "execution_count": 7,
     "metadata": {},
     "output_type": "execute_result"
    }
   ],
   "source": [
    "Calls = pd.DataFrame(data, columns = ['CB', 'No CB', 'Total', '% Success'], \n",
    "                   index = ['White-sounding names', 'Black-sounding names', 'Aggregate'])\n",
    "Calls.loc['White-sounding names','CB'] = sum(data[data.race=='w'].call)\n",
    "Calls.loc['Black-sounding names','CB'] = sum(data[data.race=='b'].call)\n",
    "Calls.loc['Aggregate','CB'] = sum(data.call)\n",
    "\n",
    "Calls.loc['White-sounding names','No CB'] = data.race[data.race=='w'].count() - sum(data[data.race=='w'].call)\n",
    "Calls.loc['Black-sounding names','No CB'] = data.race[data.race=='b'].count() - sum(data[data.race=='b'].call)\n",
    "Calls.loc['Aggregate','No CB'] = data.race.count()\n",
    "\n",
    "Calls.loc['White-sounding names','Total'] = data.race[data.race=='w'].count() \n",
    "Calls.loc['Black-sounding names','Total'] = data.race[data.race=='b'].count()\n",
    "Calls.loc['Aggregate','Total'] = data.race.count()\n",
    "\n",
    "Calls['% Success'] = Calls.CB/Calls.Total\n",
    "Calls"
   ]
  },
  {
   "cell_type": "markdown",
   "metadata": {},
   "source": [
    "<div class=\"span5 alert alert-warning\">\n",
    "<h2>Q1 - What test is appropriate for this problem? Does CLT apply?</h2>\n",
    "</div> \n",
    "\n"
   ]
  },
  {
   "cell_type": "markdown",
   "metadata": {
    "collapsed": true
   },
   "source": [
    "<div class=\"span5 alert alert-info\">\n",
    "Null hypothesis suggests that proportions in the two populations, from which the two samples are drawn, are equal.\n",
    "    \n",
    " <br>   \n",
    "When there are proportion involved t-test is never used - z-test always used! However, $$np_0>10 $$ $$n(1−p_0)>10 $$ are both greater than 10, where n is your sample size and p0 is your hypothesized population proportion. This is basically saying that the population proportions (for example, % white name calling and % black name calling) should both be large enough so they will be adequately represented in the sample.\n",
    "\n",
    "<br>\n",
    "\n",
    "<b>Z-test will be used for this testing</b> We must check the Check Normal approximation rules to be sure Normal approximation is valid\n",
    "\n",
    "$$ n1*p1>10$$\n",
    "$$ n2*p2>10$$\n",
    "$$ n1*(1-p1)>10$$\n",
    "$$ n2*(1-p2)>10$$\n",
    "    \n",
    "</div> \n",
    "\n"
   ]
  },
  {
   "cell_type": "code",
   "execution_count": 8,
   "metadata": {
    "scrolled": true
   },
   "outputs": [
    {
     "name": "stdout",
     "output_type": "stream",
     "text": [
      "test1 (n1*p1):True\n",
      "\n",
      "test2 (n2*p2):True\n",
      "\n",
      "test3 (n1*(1-p1)):True\n",
      "\n",
      "test4 (n2*(1-p2)):True\n",
      "\n",
      "\n"
     ]
    }
   ],
   "source": [
    "test1= Calls.loc['White-sounding names','CB']*Calls.loc['White-sounding names', '% Success']>=10 #𝑛1∗𝑝1>10\n",
    "test2= Calls.loc['Black-sounding names','CB']*Calls.loc['Black-sounding names', '% Success']>=10 #𝑛2∗𝑝2>10\n",
    "test3= Calls.loc['White-sounding names','CB']*(1-Calls.loc['White-sounding names', '% Success'])>=10 #𝑛1∗(1-𝑝1)>10\n",
    "test4= Calls.loc['Black-sounding names','CB']*(1-Calls.loc['Black-sounding names', '% Success'])>=10 #𝑛1∗(1-𝑝2)>10\n",
    "\n",
    "print('test1 (n1*p1):{}\\n\\ntest2 (n2*p2):{}\\n\\ntest3 (n1*(1-p1)):{}\\n\\ntest4 (n2*(1-p2)):{}\\n\\n'.format(test1,test2,test3,test4))"
   ]
  },
  {
   "cell_type": "markdown",
   "metadata": {
    "collapsed": true
   },
   "source": [
    "<div class=\"span5 alert alert-info\">\n",
    "Passed all tests.Normal approximation rules are met. Z-test can be used for this testing.\n",
    "    \n",
    "</div> \n",
    "\n"
   ]
  },
  {
   "cell_type": "markdown",
   "metadata": {},
   "source": [
    "<div class=\"span5 alert alert-warning\">\n",
    "<h2>Q2 -What are the null and alternate hypotheses?</h2>\n",
    "</div> \n",
    "\n"
   ]
  },
  {
   "cell_type": "markdown",
   "metadata": {
    "collapsed": true
   },
   "source": [
    "<div class=\"span5 alert alert-info\">\n",
    "Null Hypothesis: the probability of success (getting a callback) is the same for both resumes with white-sounding names and black-sounding names. $$H: Pw-Pb=0$$\n",
    "\n",
    "\n",
    "Alternate Hypothesis: the probability of success IS NOT THE SAME for resumes with white-sounding names as it is for those with black-sounding names. $$H: Pw-Pb\\neq0$$\n",
    "\n",
    "    \n",
    "</div> \n",
    "\n"
   ]
  },
  {
   "cell_type": "markdown",
   "metadata": {},
   "source": [
    "<div class=\"span5 alert alert-warning\">\n",
    "<h2>Q3 -Compute margin of error, confidence interval, and p-value. Try using both the bootstrapping and the frequentist statistical approaches.?</h2>\n",
    "</div> \n",
    "\n"
   ]
  },
  {
   "cell_type": "markdown",
   "metadata": {
    "collapsed": true
   },
   "source": [
    "<div class=\"span5 alert alert-info\">\n",
    "Theorem: The test statistic for testing the difference in two population proportions, that is, for testing the null hypothesis is\n",
    "    $$H: Pw-Pb=0$$ \n",
    " \n",
    "Formula of the Z stat for testing the difference in two population proportions is \n",
    "$$Z= (\\hat{p_1} -\\hat{p_2})/\\surd{((\\hat{p}(1-\\hat{p})(1/n_1 +1/n_2)))} $$\n",
    "\n",
    "the proportion of \"successes\" in the two samples combined is \n",
    "$$ \\hat{p}= (y_1+y_2)/ (n_1+n_2)$$\n",
    " \n",
    "\n",
    "    \n",
    "    \n",
    "</div> \n",
    "\n"
   ]
  },
  {
   "cell_type": "code",
   "execution_count": 9,
   "metadata": {
    "scrolled": false
   },
   "outputs": [
    {
     "data": {
      "text/html": [
       "<div>\n",
       "<style scoped>\n",
       "    .dataframe tbody tr th:only-of-type {\n",
       "        vertical-align: middle;\n",
       "    }\n",
       "\n",
       "    .dataframe tbody tr th {\n",
       "        vertical-align: top;\n",
       "    }\n",
       "\n",
       "    .dataframe thead th {\n",
       "        text-align: right;\n",
       "    }\n",
       "</style>\n",
       "<table border=\"1\" class=\"dataframe\">\n",
       "  <thead>\n",
       "    <tr style=\"text-align: right;\">\n",
       "      <th></th>\n",
       "      <th>CB</th>\n",
       "      <th>No CB</th>\n",
       "      <th>Total</th>\n",
       "      <th>% Success</th>\n",
       "    </tr>\n",
       "  </thead>\n",
       "  <tbody>\n",
       "    <tr>\n",
       "      <th>White-sounding names</th>\n",
       "      <td>235.0</td>\n",
       "      <td>2200.0</td>\n",
       "      <td>2435.0</td>\n",
       "      <td>0.096509</td>\n",
       "    </tr>\n",
       "    <tr>\n",
       "      <th>Black-sounding names</th>\n",
       "      <td>157.0</td>\n",
       "      <td>2278.0</td>\n",
       "      <td>2435.0</td>\n",
       "      <td>0.064476</td>\n",
       "    </tr>\n",
       "    <tr>\n",
       "      <th>Aggregate</th>\n",
       "      <td>392.0</td>\n",
       "      <td>4870.0</td>\n",
       "      <td>4870.0</td>\n",
       "      <td>0.080493</td>\n",
       "    </tr>\n",
       "  </tbody>\n",
       "</table>\n",
       "</div>"
      ],
      "text/plain": [
       "                         CB   No CB   Total  % Success\n",
       "White-sounding names  235.0  2200.0  2435.0   0.096509\n",
       "Black-sounding names  157.0  2278.0  2435.0   0.064476\n",
       "Aggregate             392.0  4870.0  4870.0   0.080493"
      ]
     },
     "execution_count": 9,
     "metadata": {},
     "output_type": "execute_result"
    }
   ],
   "source": [
    "Calls"
   ]
  },
  {
   "cell_type": "code",
   "execution_count": 10,
   "metadata": {},
   "outputs": [],
   "source": [
    "# White-sounding names\n",
    "n1=Calls.Total[0]\n",
    "y1=Calls.CB[0]\n",
    "p1=y1/n1\n",
    "\n",
    "# Black-sounding names\n",
    "n2=Calls.Total[1]\n",
    "y2=Calls.CB[1]\n",
    "p2=y2/n2"
   ]
  },
  {
   "cell_type": "code",
   "execution_count": 11,
   "metadata": {},
   "outputs": [
    {
     "name": "stdout",
     "output_type": "stream",
     "text": [
      "combined_proportion is :  0.08049281314168377\n",
      "Z is :  4.108412152434346\n",
      "p_value (inluding two tails) 3.983886837577444e-05\n"
     ]
    }
   ],
   "source": [
    "combined_proportion = (y1+y2)/(n1+n2)\n",
    "Z = (p1-p2)/np.sqrt(combined_proportion*(1-combined_proportion)*(1/n1+1/n2))\n",
    "print('combined_proportion is : ', combined_proportion)\n",
    "print('Z is : ', Z)\n",
    "p = 1-stats.norm.cdf(abs(Z))\n",
    "print('p_value (inluding two tails)',p*2)"
   ]
  },
  {
   "cell_type": "markdown",
   "metadata": {
    "collapsed": true
   },
   "source": [
    "<div class=\"span5 alert alert-info\">\n",
    "\n",
    "<b>Confidance interval for two population proportions is </b>\n",
    " \n",
    "$$CI= (\\hat{p_1} -\\hat{p_2})+- z^*\\surd{((\\hat{p_1}(1-\\hat{p_1})/n1 +\\hat{p_2}(1-\\hat{p_2})/n2)} $$\n",
    "\n",
    " \n",
    "\n",
    "    \n",
    "    \n",
    "</div> \n",
    "\n"
   ]
  },
  {
   "cell_type": "code",
   "execution_count": 16,
   "metadata": {},
   "outputs": [
    {
     "name": "stdout",
     "output_type": "stream",
     "text": [
      "Confidance interval is 0.016777447859559147 -0.047288260559332024:\n",
      "Margin of error is 0.015255406349886438\n"
     ]
    }
   ],
   "source": [
    "z_score = 1.96 #for the 95% confidence interval z_score is 1.96\n",
    "CI_high = (p1-p2)+z_score*(np.sqrt(p1*(1-p1)/n1+ p2*(1-p2)/n2))\n",
    "CI_low = (p1-p2)-z_score*(np.sqrt(p1*(1-p1)/n1+ p2*(1-p2)/n2))\n",
    "Margin_of_err=(CI_high - CI_low)/2\n",
    "\n",
    "print('Confidance interval is {} -{}:'.format(CI_low,CI_high ) )\n",
    "print('Margin of error is',Margin_of_err )"
   ]
  },
  {
   "cell_type": "code",
   "execution_count": 13,
   "metadata": {},
   "outputs": [
    {
     "data": {
      "image/png": "[encoded data removed]",
      "text/plain": [
       "<Figure size 432x288 with 1 Axes>"
      ]
     },
     "metadata": {
      "needs_background": "light"
     },
     "output_type": "display_data"
    }
   ],
   "source": [
    "# Graph the Frequentist results\n",
    "x = np.linspace(- 0.06, 0.06, 100, endpoint=True)\n",
    "pdf =[stats.norm.pdf(_, loc=0, scale=Margin_of_err) for _ in x]\n",
    "plt.plot(x, pdf, 'k-')\n",
    "\n",
    "_ = plt.axvline(CI_high, color='red')\n",
    "_ = plt.axvline(CI_low, color='red')\n",
    "_ = plt.axvline(0, color='blue')\n",
    "_ = plt.text(-0.023, 3, '$H_0: p_w - p_b = 0$')\n",
    "_ = plt.text(0.022, 23, '95% Confidence \\n     Interval')\n"
   ]
  },
  {
   "cell_type": "code",
   "execution_count": 17,
   "metadata": {
    "scrolled": true
   },
   "outputs": [
    {
     "name": "stdout",
     "output_type": "stream",
     "text": [
      "obs diff: 0.032032854209445585\n",
      "np-value: 0.0\n",
      "95% conf. int.: [-0.01519507  0.01519507]\n"
     ]
    }
   ],
   "source": [
    "# Construct arrays of data: white-sounding names, black-sounding names\n",
    "all_callbacks = np.array(data.call)\n",
    "prop_diff=p1-p2\n",
    "bs_reps_diff = np.empty(10000)\n",
    "for i in range(10000):\n",
    "    w_bs_replicates = np.sum(np.random.choice(all_callbacks, size=int(n1)))\n",
    "    b_bs_replicates = np.sum(np.random.choice(all_callbacks, size=int(n2)))\n",
    "    bs_reps_diff[i] = (w_bs_replicates - b_bs_replicates)/int(n2)\n",
    "\n",
    "bs_p_value = np.sum(bs_reps_diff >= prop_diff) / len(bs_reps_diff)\n",
    "bs_ci = np.percentile(bs_reps_diff, [2.5, 97.5]) #95% confidance interval is between 2.5 and 97.5 quartiles. \n",
    "\n",
    "print('obs diff: {}'.format(prop_diff))\n",
    "print('np-value: {}\\n95% conf. int.: {}'.format(bs_p_value, bs_ci))"
   ]
  },
  {
   "cell_type": "markdown",
   "metadata": {
    "collapsed": true
   },
   "source": [
    "<div class=\"span5 alert alert-info\">\n",
    "\n",
    "<b>Answer Q3 </b>\n",
    "\n",
    "Null Hypothesis: the probability of success (getting a callback) is the same for both resumes with white-sounding names and black-sounding names. $$H: Pw-Pb=0$$\n",
    "\n",
    "Both frequentist and bootstrapping approch had a p_value smaller than 0.05. That means that null hypothesis must be rejected in favor of the alternate hypothesis. \n",
    "$$Frequentist Approch$$<br>\n",
    "$$P-value:3.983886837577444e-05$$<br>\n",
    "$$ Confidance interval : ( 0.016777447859559147 - 0.047288260559332024)$$<br>\n",
    "\n",
    "<br>\n",
    "\n",
    "$$Bootsrapping$$<br>\n",
    "$$P-value: 0.0$$<br>\n",
    "$$ confidance-interval:(-0.01519507 - 0.01519507) $$<br>\n",
    "    \n",
    "</div> \n",
    "\n"
   ]
  },
  {
   "cell_type": "markdown",
   "metadata": {},
   "source": [
    "<div class=\"span5 alert alert-warning\">\n",
    "<h2>Q4 -Write a story describing the statistical significance in the context or the original problem.</h2>\n",
    "</div> \n",
    "\n"
   ]
  },
  {
   "cell_type": "markdown",
   "metadata": {},
   "source": [
    "<div class=\"span5 alert alert-info\">\n",
    "\n",
    "<b>Answer Q4 </b>\n",
    "<p>Write a story describing the statistical significance in the context or the original problem.<br>\n",
    "\n",
    "As it is seen from the data and statistics call back for  proportion of the white-sounding names is significantly and consistently higher than the proportion of callbacks for black-sounding names. The difference between proportions are clear and significant. This study proves the Racial Discrimination in the US Job Market.\n",
    "\n",
    "\n",
    "\n",
    "\n",
    "\n",
    "\n",
    "</p>\n",
    "</div>"
   ]
  },
  {
   "cell_type": "markdown",
   "metadata": {},
   "source": [
    "<div class=\"span5 alert alert-warning\">\n",
    "<h2>Q5 -Does your analysis mean that race/name is the most important factor in callback success? Why or why not? If not, how would you amend your analysis?</h2>\n",
    "</div> \n",
    "\n"
   ]
  },
  {
   "cell_type": "markdown",
   "metadata": {},
   "source": [
    "<div class=\"span5 alert alert-info\">\n",
    "\n",
    "<b>Answer Q5 </b>\n",
    "<p>Write a story describing the statistical significance in the context or the original problem.<br>\n",
    "\n",
    "This study clearly shows the Racial Discrimination in the US Job Market for calling back the candidate based on how their names are sounded like. \n",
    "\n",
    "Yes,Hypothesis suggests that This analysis mean that race/name is the significant important factor in callback success.\n",
    "\n",
    "However, I would like to include education background, work experince, criminal back ground etc. to this study to see if any other factors plays significant role on call back based on racial sounded names.\n",
    "\n",
    "\n",
    "\n",
    "\n",
    "\n",
    "</p>\n",
    "</div>"
   ]
  },
  {
   "cell_type": "code",
   "execution_count": null,
   "metadata": {},
   "outputs": [],
   "source": []
  },
  {
   "cell_type": "code",
   "execution_count": null,
   "metadata": {},
   "outputs": [],
   "source": []
  }
 ],
 "metadata": {
  "kernelspec": {
   "display_name": "Python 3",
   "language": "python",
   "name": "python3"
  },
  "language_info": {
   "codemirror_mode": {
    "name": "ipython",
    "version": 3
   },
   "file_extension": ".py",
   "mimetype": "text/x-python",
   "name": "python",
   "nbconvert_exporter": "python",
   "pygments_lexer": "ipython3",
   "version": "3.7.1"
  }
 },
 "nbformat": 4,
 "nbformat_minor": 1
}
