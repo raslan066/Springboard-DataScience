{
 "cells": [
  {
   "cell_type": "markdown",
   "metadata": {},
   "source": [
    "# What is the True Normal Human Body Temperature? \n",
    "\n",
    "#### Background\n",
    "\n",
    "The mean normal body temperature was held to be 37$^{\\circ}$C or 98.6$^{\\circ}$F for more than 120 years since it was first conceptualized and reported by Carl Wunderlich in a famous 1868 book. But, is this value statistically correct?"
   ]
  },
  {
   "cell_type": "markdown",
   "metadata": {},
   "source": [
    "<h3>Exercises</h3>\n",
    "\n",
    "<p>In this exercise, you will analyze a dataset of human body temperatures and employ the concepts of hypothesis testing, confidence intervals, and statistical significance.</p>\n",
    "\n",
    "<p>Answer the following questions <b>in this notebook below and submit to your Github account</b>.</p> \n",
    "\n",
    "<ol>\n",
    "<li>  Is the distribution of body temperatures normal? \n",
    "    <ul>\n",
    "    <li> Although this is not a requirement for the Central Limit Theorem to hold (read the introduction on Wikipedia's page about the CLT carefully: https://en.wikipedia.org/wiki/Central_limit_theorem), it gives us some peace of mind that the population may also be normally distributed if we assume that this sample is representative of the population.\n",
    "    <li> Think about the way you're going to check for the normality of the distribution. Graphical methods are usually used first, but there are also other ways: https://en.wikipedia.org/wiki/Normality_test\n",
    "    </ul>\n",
    "<li>  Is the sample size large? Are the observations independent?\n",
    "    <ul>\n",
    "    <li> Remember that this is a condition for the Central Limit Theorem, and hence the statistical tests we are using, to apply.\n",
    "    </ul>\n",
    "<li>  Is the true population mean really 98.6 degrees F?\n",
    "    <ul>\n",
    "    <li> First, try a bootstrap hypothesis test.\n",
    "    <li> Now, let's try frequentist statistical testing. Would you use a one-sample or two-sample test? Why?\n",
    "    <li> In this situation, is it appropriate to use the $t$ or $z$ statistic? \n",
    "    <li> Now try using the other test. How is the result be different? Why?\n",
    "    </ul>\n",
    "<li>  Draw a small sample of size 10 from the data and repeat both frequentist tests. \n",
    "    <ul>\n",
    "    <li> Which one is the correct one to use? \n",
    "    <li> What do you notice? What does this tell you about the difference in application of the $t$ and $z$ statistic?\n",
    "    </ul>\n",
    "<li>  At what temperature should we consider someone's temperature to be \"abnormal\"?\n",
    "    <ul>\n",
    "    <li> As in the previous example, try calculating everything using the boostrap approach, as well as the frequentist approach.\n",
    "    <li> Start by computing the margin of error and confidence interval. When calculating the confidence interval, keep in mind that you should use the appropriate formula for one draw, and not N draws.\n",
    "    </ul>\n",
    "<li>  Is there a significant difference between males and females in normal temperature?\n",
    "    <ul>\n",
    "    <li> What testing approach did you use and why?\n",
    "    <li> Write a story with your conclusion in the context of the original problem.\n",
    "    </ul>\n",
    "</ol>\n",
    "\n",
    "You can include written notes in notebook cells using Markdown: \n",
    "   - In the control panel at the top, choose Cell > Cell Type > Markdown\n",
    "   - Markdown syntax: http://nestacms.com/docs/creating-content/markdown-cheat-sheet\n",
    "\n",
    "#### Resources\n",
    "\n",
    "+ Information and data sources: http://www.amstat.org/publications/jse/datasets/normtemp.txt, http://www.amstat.org/publications/jse/jse_data_archive.htm\n",
    "+ Markdown syntax: http://nestacms.com/docs/creating-content/markdown-cheat-sheet\n",
    "\n",
    "https://thegyre.io/coursework/stats/body_temp/\n",
    "\n",
    "****"
   ]
  },
  {
   "cell_type": "code",
   "execution_count": 1,
   "metadata": {
    "scrolled": true
   },
   "outputs": [
    {
     "data": {
      "text/html": [
       "<div>\n",
       "<style scoped>\n",
       "    .dataframe tbody tr th:only-of-type {\n",
       "        vertical-align: middle;\n",
       "    }\n",
       "\n",
       "    .dataframe tbody tr th {\n",
       "        vertical-align: top;\n",
       "    }\n",
       "\n",
       "    .dataframe thead th {\n",
       "        text-align: right;\n",
       "    }\n",
       "</style>\n",
       "<table border=\"1\" class=\"dataframe\">\n",
       "  <thead>\n",
       "    <tr style=\"text-align: right;\">\n",
       "      <th></th>\n",
       "      <th>temperature</th>\n",
       "      <th>gender</th>\n",
       "      <th>heart_rate</th>\n",
       "    </tr>\n",
       "  </thead>\n",
       "  <tbody>\n",
       "    <tr>\n",
       "      <th>0</th>\n",
       "      <td>99.3</td>\n",
       "      <td>F</td>\n",
       "      <td>68.0</td>\n",
       "    </tr>\n",
       "    <tr>\n",
       "      <th>1</th>\n",
       "      <td>98.4</td>\n",
       "      <td>F</td>\n",
       "      <td>81.0</td>\n",
       "    </tr>\n",
       "    <tr>\n",
       "      <th>2</th>\n",
       "      <td>97.8</td>\n",
       "      <td>M</td>\n",
       "      <td>73.0</td>\n",
       "    </tr>\n",
       "    <tr>\n",
       "      <th>3</th>\n",
       "      <td>99.2</td>\n",
       "      <td>F</td>\n",
       "      <td>66.0</td>\n",
       "    </tr>\n",
       "    <tr>\n",
       "      <th>4</th>\n",
       "      <td>98.0</td>\n",
       "      <td>F</td>\n",
       "      <td>73.0</td>\n",
       "    </tr>\n",
       "  </tbody>\n",
       "</table>\n",
       "</div>"
      ],
      "text/plain": [
       "   temperature gender  heart_rate\n",
       "0         99.3      F        68.0\n",
       "1         98.4      F        81.0\n",
       "2         97.8      M        73.0\n",
       "3         99.2      F        66.0\n",
       "4         98.0      F        73.0"
      ]
     },
     "execution_count": 1,
     "metadata": {},
     "output_type": "execute_result"
    }
   ],
   "source": [
    "# IMPORTS\n",
    "import numpy as np\n",
    "import pandas as pd\n",
    "import matplotlib.pyplot as plt\n",
    "import seaborn as sns\n",
    "import scipy.stats as stats\n",
    "import statsmodels.stats as smd\n",
    "import pylab\n",
    "from scipy.stats import norm\n",
    "\n",
    "# matplotlib setup\n",
    "%matplotlib inline\n",
    "\n",
    "\n",
    "#to keep same random sample for testing \n",
    "np.random.seed(42)\n",
    "\n",
    "df = pd.read_csv('data/human_body_temperature.csv')\n",
    "df.head()"
   ]
  },
  {
   "cell_type": "markdown",
   "metadata": {},
   "source": [
    "---\n"
   ]
  },
  {
   "cell_type": "code",
   "execution_count": 2,
   "metadata": {},
   "outputs": [],
   "source": [
    "# Your work here.\n",
    "def ecdf(data):\n",
    "    \"\"\"Compute ECDF for a one-dimensional array of measurements.\"\"\"\n",
    "\n",
    "    # Number of data points: n\n",
    "    n = len(data)\n",
    "\n",
    "    # x: sort the data\n",
    "    x = np.sort(data)\n",
    "\n",
    "    # y: range for y-axis\n",
    "    y = np.arange(1, n+1) / n\n",
    "\n",
    "    return x, y\n",
    "\n",
    "def bootstrap(df, size):\n",
    "    np.random.seed(42)\n",
    "    size = 10000\n",
    "    bs_replicates_m = np.empty(size)\n",
    "\n",
    "    for i in range(size):\n",
    "        bs_sample_m = np.random.choice(df, len(df))\n",
    "        bs_replicates_m[i] = np.mean(bs_sample_m)\n",
    "    return bs_replicates_m\n",
    "\n",
    "    "
   ]
  },
  {
   "cell_type": "markdown",
   "metadata": {},
   "source": [
    "---\n"
   ]
  },
  {
   "cell_type": "markdown",
   "metadata": {},
   "source": [
    "## Q1- Is the distribution of body temperatures normal? "
   ]
  },
  {
   "cell_type": "markdown",
   "metadata": {},
   "source": [
    "\n",
    "<div class=\"alert alert-info\" role=\"alert\">\n",
    "<p><b>Answer</b>\n",
    "<ol>\n",
    "This graph below shows that the frequency distribution of the data is very close to normal.\n",
    " </ol></p>\n",
    "</div"
   ]
  },
  {
   "cell_type": "code",
   "execution_count": 3,
   "metadata": {
    "scrolled": false
   },
   "outputs": [
    {
     "data": {
      "image/png": "[encoded data removed]",
      "text/plain": [
       "<Figure size 432x288 with 1 Axes>"
      ]
     },
     "metadata": {},
     "output_type": "display_data"
    }
   ],
   "source": [
    "sns.set()\n",
    "# Plot the CDFs\n",
    "x, y = ecdf(df.temperature)\n",
    "\n",
    "# draw 100,000 random samples from a normal distribution\n",
    "theoric = np.random.normal(np.mean(df.temperature), np.std(df.temperature), 100000)\n",
    "x_theoric, y_theoric = ecdf(theoric)\n",
    "\n",
    "_ = plt.plot(x, y, marker='.', linestyle='none')\n",
    "_ = plt.plot(x_theoric, y_theoric)\n",
    "\n",
    "plt.show();"
   ]
  },
  {
   "cell_type": "markdown",
   "metadata": {},
   "source": [
    "---\n"
   ]
  },
  {
   "cell_type": "markdown",
   "metadata": {},
   "source": [
    "## Q2- Is the sample size large? Are the observations independent?"
   ]
  },
  {
   "cell_type": "markdown",
   "metadata": {},
   "source": [
    "Q2: Sample Size\n",
    "Is the sample size large? Are the observations independent?\n",
    "\n",
    "Remember that this is a condition for the Central Limit Theorem, and hence the statistical tests we are using, to apply."
   ]
  },
  {
   "cell_type": "markdown",
   "metadata": {},
   "source": [
    "<b>Answer</b>\n",
    "\n",
    "<ol><b>Is the sample sufficiently large?</b> <br>\n",
    "There is a commonly-accepted rule of thumb is that a sample size of 30 constitutes 'sufficiently large'.Since sample size is 130 that is more than 30. So It is 'sufficiently large'.\n",
    "In order to have sound results, We should apply 10% condition. The 10% condition states that sample sizes should be no more than 10% of the population. 10% of the data makes way more that 130 sample sizes which is  sufficiently enough. \n",
    "\n",
    "For the cases the population from which the samples are drawn is unimodal and symmetric about the mean, a sample size of less than 30 may be sufficient. if the population was multi-modal or skewed, a sample size of more than 30 would be required.</ol>\n",
    "\n",
    "<ol><b>Is the observation independent?</b><br> \n",
    "Since body temp of a person is indendent from each other. Yes we can consider that the observations are independent. (Note: we are igroning special cases such has samples from same house hold, or sample from sick people etc.)</ol>\n"
   ]
  },
  {
   "cell_type": "markdown",
   "metadata": {},
   "source": [
    "---\n"
   ]
  },
  {
   "cell_type": "markdown",
   "metadata": {},
   "source": [
    "## Q3 -Is the true population mean really 98.6 degrees F?"
   ]
  },
  {
   "cell_type": "markdown",
   "metadata": {},
   "source": [
    "  <ul>\n",
    "    <li> First, try a bootstrap hypothesis test.\n",
    "    <li> Now, let's try frequentist statistical testing. Would you use a one-sample or two-sample test? Why?\n",
    "    <li> In this situation, is it appropriate to use the $t$ or $z$ statistic? \n",
    "    <li> Now try using the other test. How is the result be different? Why?\n",
    "    </ul>"
   ]
  },
  {
   "cell_type": "markdown",
   "metadata": {},
   "source": [
    "---\n"
   ]
  },
  {
   "cell_type": "markdown",
   "metadata": {},
   "source": [
    "Null hypothesis(Ho) = 98.6 <br>\n",
    "Aternative hypothesis(Ha) != 98.6"
   ]
  },
  {
   "cell_type": "markdown",
   "metadata": {},
   "source": [
    "<b>3.0 The mean sample data\n",
    "    of the given data is 98.24923076923078</b>"
   ]
  },
  {
   "cell_type": "code",
   "execution_count": 4,
   "metadata": {},
   "outputs": [
    {
     "data": {
      "text/plain": [
       "98.24923076923078"
      ]
     },
     "execution_count": 4,
     "metadata": {},
     "output_type": "execute_result"
    }
   ],
   "source": [
    "np.mean(df.temperature)"
   ]
  },
  {
   "cell_type": "markdown",
   "metadata": {},
   "source": [
    "---\n"
   ]
  },
  {
   "cell_type": "markdown",
   "metadata": {},
   "source": [
    "<b>3.1 I will take 10000 samples than apply bootstrapping to test the hypothesis</b>"
   ]
  },
  {
   "cell_type": "code",
   "execution_count": 5,
   "metadata": {},
   "outputs": [
    {
     "name": "stdout",
     "output_type": "stream",
     "text": [
      "p-value: 0.0\n",
      "mean: 98.25\n",
      "Standard deviation: 0.06447493430439619\n"
     ]
    }
   ],
   "source": [
    "# I will create an empty array that can hold 100000 variables. \n",
    "bootstrapping_replicates= bootstrap(df.temperature, 100000)   \n",
    "\n",
    "p = np.sum(bootstrapping_replicates >= 98.6) / 100000\n",
    "\n",
    "print('p-value: {}'.format(p))\n",
    "print('mean: {:0.5}'.format(np.mean(bootstrapping_replicates)))\n",
    "print('Standard deviation: {}'.format(np.std(bootstrapping_replicates)))\n",
    "\n"
   ]
  },
  {
   "cell_type": "markdown",
   "metadata": {},
   "source": [
    "<b>Answer</b>\n",
    "\n",
    "<ol>Null hypothesis refers to true population mean 98.6 degrees F. I check the percentage of possibilities of the p values that might be bigger then test value for 100000 bootstrapping replicas. The result was that there were no sample mean that was greater than 98.6. So that P value was zero. Since P value smaller that 0.05. <b>Null hypothesis should be rejected.</b> </ol>"
   ]
  },
  {
   "cell_type": "markdown",
   "metadata": {},
   "source": [
    "---\n"
   ]
  },
  {
   "cell_type": "markdown",
   "metadata": {},
   "source": [
    "<b>3.2 Frequentist statistical testing</b>"
   ]
  },
  {
   "cell_type": "code",
   "execution_count": 6,
   "metadata": {},
   "outputs": [
    {
     "name": "stdout",
     "output_type": "stream",
     "text": [
      "t-score: -5.45482\n",
      "p-value: 0.0\n"
     ]
    }
   ],
   "source": [
    "t_stat = stats.ttest_1samp(df.temperature, 98.6)\n",
    "print('t-score: {}\\np-value: {}'.format(round(t_stat.statistic, 5), round(t_stat.pvalue, 5)))\n",
    "\n"
   ]
  },
  {
   "cell_type": "markdown",
   "metadata": {},
   "source": [
    "<b>Answer</b>\n",
    "\n",
    "<ol>In cases we dont know the the standard deviation of the population. We need to use the standard deviation of the sample popularion. By the formula Z-stat that requires the standard deviation of the population,we cannot use it,however t-stat uses the sample standard deviation. Therefore we need to use t-stat.</ol>"
   ]
  },
  {
   "cell_type": "markdown",
   "metadata": {},
   "source": [
    "---\n"
   ]
  },
  {
   "cell_type": "markdown",
   "metadata": {},
   "source": [
    "## Q4 -Draw a small sample of size 10 from the data and repeat both frequentist tests."
   ]
  },
  {
   "cell_type": "markdown",
   "metadata": {},
   "source": [
    "  <ul>\n",
    "    <li> Which one is the correct one to use?\n",
    "    <li>What do you notice? What does this tell you about the difference in application of the  𝑡  and  𝑧  statistic?\n",
    "    </ul>"
   ]
  },
  {
   "cell_type": "code",
   "execution_count": 7,
   "metadata": {},
   "outputs": [
    {
     "name": "stdout",
     "output_type": "stream",
     "text": [
      "t = 2.2948907108029672\n",
      "pvalue =  0.047393936397399125\n"
     ]
    }
   ],
   "source": [
    "sample_temp = np.random.choice(df.temperature, size=10)\n",
    "r =stats.ttest_1samp(sample_temp, 98.6)\n",
    "\n",
    "print(\"t =\",r.statistic)\n",
    "print('pvalue = ',r.pvalue)"
   ]
  },
  {
   "cell_type": "markdown",
   "metadata": {},
   "source": [
    "<b>Answer</b>\n",
    "\n",
    "<ol>I could not perform the z_test since the mean of the standard deviation of the population is not provided. In cases we dont know the the standard deviation of the population,we need to use the standard deviation of the sample popularion. By the formula Z-stat required the standard deviation of the population but t-stat wont. Therefore we need to use t-stat.\n",
    "According to stat p value is smaller than 0.05. Thus, null hypothesis should be rejected in this case</ol>"
   ]
  },
  {
   "cell_type": "markdown",
   "metadata": {},
   "source": [
    "---\n"
   ]
  },
  {
   "cell_type": "markdown",
   "metadata": {},
   "source": [
    "## Q5 -At what temperature should we consider someone's temperature to be \"abnormal\"?"
   ]
  },
  {
   "cell_type": "markdown",
   "metadata": {},
   "source": [
    "  <ul>\n",
    "    <li> As in the previous example, try calculating everything using the boostrap approach, as well as the frequentist approach.\n",
    "<li>Start by computing the margin of error and confidence interval. When calculating the confidence interval, keep in mind that you should use the appropriate formula for one draw, and not N draws.\n",
    "    </ul>"
   ]
  },
  {
   "cell_type": "code",
   "execution_count": 8,
   "metadata": {},
   "outputs": [
    {
     "name": "stdout",
     "output_type": "stream",
     "text": [
      "p-value: 0.0\n",
      "Mean of the bootstrap_replica is 98.25 and \n",
      "Standard deviation of the bootstrap_replica is 0.06\n",
      "Confidance interval is (98.12345891239626, 98.37619601068066)\n"
     ]
    }
   ],
   "source": [
    "bootstrap_replica= bootstrap(df.temperature, 100000)\n",
    "p = np.sum(bootstrap_replica >= 98.6) / len(bootstrap_replica)\n",
    "\n",
    "print('p-value: {}'.format(p))\n",
    "mean = np.mean(bootstrap_replica)\n",
    "sdt = np.std(bootstrap_replica)\n",
    "print('Mean of the bootstrap_replica is {} and \\nStandard deviation of the bootstrap_replica is {}'.format(round(mean,2),round(sdt,2)))\n",
    "confidence_interval = stats.norm.interval(0.95, loc=mean, scale=sdt)\n",
    "print('Confidance interval is {}'.format(confidence_interval))\n",
    "\n"
   ]
  },
  {
   "cell_type": "markdown",
   "metadata": {},
   "source": [
    "For the null hypothesis with the standard deviation of 0.06436006633092962. The confidance interval is (98.48240216092759, 98.7175978390724)."
   ]
  },
  {
   "cell_type": "code",
   "execution_count": 9,
   "metadata": {},
   "outputs": [
    {
     "data": {
      "text/plain": [
       "(98.48240216092759, 98.7175978390724)"
      ]
     },
     "execution_count": 9,
     "metadata": {},
     "output_type": "execute_result"
    }
   ],
   "source": [
    "stats.norm.interval(0.95, loc=98.6, scale=0.06)"
   ]
  },
  {
   "cell_type": "markdown",
   "metadata": {},
   "source": [
    "---\n"
   ]
  },
  {
   "cell_type": "markdown",
   "metadata": {},
   "source": [
    "## Q6 -Is there a significant difference between males and females in normal temperature?"
   ]
  },
  {
   "cell_type": "markdown",
   "metadata": {},
   "source": [
    "What testing approach did you use and why?\n",
    "Write a story with your conclusion in the context of the original problem."
   ]
  },
  {
   "cell_type": "markdown",
   "metadata": {},
   "source": [
    "<b>Sample sizes for both male and females are more than 35 and less than 10% of the population. Sample sizes are suffiently large.</b>\n",
    "#### Null Hypothesis\n",
    "<ol> Ho: mean_of_males_body_temp = mean_of_females_body_temp <br>\n",
    "    Ha: mean_of_males_body_temp != mean_of_females_body_temp</ol>"
   ]
  },
  {
   "cell_type": "code",
   "execution_count": 10,
   "metadata": {},
   "outputs": [],
   "source": [
    "males = df[df.gender == 'M']\n",
    "females = df[df.gender == 'F']"
   ]
  },
  {
   "cell_type": "markdown",
   "metadata": {},
   "source": [
    "There are 130 people tested who are of 65 males and 65 males. According to analysis with bootstrapping with 100000 samples, calculated mean of the human body temperature  is 98.25°, and null hypothesis that suggested mean of the human body temperature  is 98.6°, should be rejected.  <br><br>\n",
    "Based on the stats above, it is observed that mean body temprature of the Female is higher than male (about 0.3 degrees F)."
   ]
  },
  {
   "cell_type": "code",
   "execution_count": 11,
   "metadata": {},
   "outputs": [
    {
     "data": {
      "text/plain": [
       "count    65.000000\n",
       "mean     98.104615\n",
       "std       0.698756\n",
       "min      96.300000\n",
       "25%      97.600000\n",
       "50%      98.100000\n",
       "75%      98.600000\n",
       "max      99.500000\n",
       "Name: temperature, dtype: float64"
      ]
     },
     "execution_count": 11,
     "metadata": {},
     "output_type": "execute_result"
    }
   ],
   "source": [
    "males.temperature.describe()"
   ]
  },
  {
   "cell_type": "code",
   "execution_count": 12,
   "metadata": {
    "scrolled": true
   },
   "outputs": [
    {
     "data": {
      "text/plain": [
       "count     65.000000\n",
       "mean      98.393846\n",
       "std        0.743488\n",
       "min       96.400000\n",
       "25%       98.000000\n",
       "50%       98.400000\n",
       "75%       98.800000\n",
       "max      100.800000\n",
       "Name: temperature, dtype: float64"
      ]
     },
     "execution_count": 12,
     "metadata": {},
     "output_type": "execute_result"
    }
   ],
   "source": [
    "females.temperature.describe()"
   ]
  },
  {
   "cell_type": "code",
   "execution_count": 13,
   "metadata": {},
   "outputs": [
    {
     "data": {
      "text/plain": [
       "<matplotlib.axes._subplots.AxesSubplot at 0x1a1ac0b550>"
      ]
     },
     "execution_count": 13,
     "metadata": {},
     "output_type": "execute_result"
    },
    {
     "data": {
      "image/png": "[encoded data removed]",
      "text/plain": [
       "<Figure size 432x288 with 1 Axes>"
      ]
     },
     "metadata": {},
     "output_type": "display_data"
    }
   ],
   "source": [
    "sns.boxplot(x = 'gender', y = 'temperature', data=df)"
   ]
  },
  {
   "cell_type": "markdown",
   "metadata": {},
   "source": [
    "---\n"
   ]
  },
  {
   "cell_type": "markdown",
   "metadata": {},
   "source": [
    "<b>Time to plot them to check normality</b>"
   ]
  },
  {
   "cell_type": "markdown",
   "metadata": {},
   "source": [
    "ECDF for x and y values of both male and females"
   ]
  },
  {
   "cell_type": "code",
   "execution_count": 14,
   "metadata": {},
   "outputs": [],
   "source": [
    "male_x, male_y = ecdf(males.temperature)\n",
    "female_x, female_y = ecdf(females.temperature)"
   ]
  },
  {
   "cell_type": "markdown",
   "metadata": {},
   "source": [
    "ECDF for theorical x and y values of both male and females"
   ]
  },
  {
   "cell_type": "code",
   "execution_count": 15,
   "metadata": {},
   "outputs": [],
   "source": [
    "males_th_x,males_th_y=ecdf(np.random.normal(np.mean(males.temperature), np.std(males.temperature), 100000))\n",
    "females_th_x,females_th_y=ecdf(np.random.normal(np.mean(females.temperature), np.std(females.temperature), 100000))"
   ]
  },
  {
   "cell_type": "code",
   "execution_count": 16,
   "metadata": {
    "scrolled": true
   },
   "outputs": [
    {
     "data": {
      "image/png": "[encoded data removed]",
      "text/plain": [
       "<Figure size 432x288 with 1 Axes>"
      ]
     },
     "metadata": {},
     "output_type": "display_data"
    }
   ],
   "source": [
    "_ = plt.plot(male_x, male_y, marker='.', linestyle='none')\n",
    "_ = plt.plot(males_th_x, males_th_y)\n",
    "\n",
    "_ = plt.plot(female_x, female_y, marker='.', linestyle='none')\n",
    "_ = plt.plot(females_th_x, females_th_y)\n",
    "\n",
    "plt.show();"
   ]
  },
  {
   "cell_type": "markdown",
   "metadata": {},
   "source": [
    "---\n"
   ]
  },
  {
   "cell_type": "markdown",
   "metadata": {},
   "source": [
    "<b>Both males and females body temprature are close to normal distrubution with some variation. Females have little more variance comparated to males. </b>"
   ]
  },
  {
   "cell_type": "code",
   "execution_count": 17,
   "metadata": {},
   "outputs": [
    {
     "name": "stdout",
     "output_type": "stream",
     "text": [
      "Variance of males body temp: \n",
      "0.4807479289940825\n",
      "Variance of females body temp: \n",
      "0.5442698224852062\n"
     ]
    }
   ],
   "source": [
    "male_var = np.var(males.temperature)\n",
    "female_var =np.var(females.temperature)\n",
    "print('Variance of males body temp: \\n{}\\nVariance of females body temp: \\n{}'.format(male_var,female_var))"
   ]
  },
  {
   "cell_type": "code",
   "execution_count": 18,
   "metadata": {
    "scrolled": true
   },
   "outputs": [
    {
     "name": "stdout",
     "output_type": "stream",
     "text": [
      "t-statistic: -2.29\n",
      "p-value: 0.024\n"
     ]
    }
   ],
   "source": [
    "statistics = stats.ttest_ind(males.temperature, females.temperature, equal_var=False)\n",
    "print('t-statistic: {:0.3}\\np-value: {:0.2}'.format(statistics.statistic, statistics.pvalue))"
   ]
  },
  {
   "cell_type": "markdown",
   "metadata": {},
   "source": [
    "---\n"
   ]
  },
  {
   "cell_type": "markdown",
   "metadata": {},
   "source": [
    "###  Confidence Interval For Males and Females to check Abnormality"
   ]
  },
  {
   "cell_type": "code",
   "execution_count": 19,
   "metadata": {},
   "outputs": [
    {
     "name": "stdout",
     "output_type": "stream",
     "text": [
      "Males sample mean(one draw): 98.1046153846154\n",
      "Males sample standard deviation(one draw):0.6933598841828696\n",
      "For Males 95% confidence interval (one draw): (96.74565498329211, 99.46357578593869)\n",
      "\n",
      "\n",
      "Females sample mean(one draw): 98.39384615384613\n",
      "Females sample standard deviation(one draw):0.7377464486428966\n",
      "For Females 95% confidence interval (one draw): (96.94788968478372, 99.83980262290854)\n"
     ]
    }
   ],
   "source": [
    "Females_confidace_intervals = stats.norm.interval(0.95, loc=np.mean(females.temperature), scale=np.std(females.temperature))\n",
    "Males_confidace_intervals = stats.norm.interval(0.95, loc=np.mean(males.temperature), scale=np.std(males.temperature))\n",
    "print('Males sample mean(one draw): {}\\nMales sample standard deviation(one draw):{}'.format(np.mean(males.temperature),np.std(males.temperature)))\n",
    "print('For Males 95% confidence interval (one draw): {}'.format(Males_confidace_intervals))\n",
    "\n",
    "print('\\n\\nFemales sample mean(one draw): {}\\nFemales sample standard deviation(one draw):{}'.format(np.mean(females.temperature),np.std(females.temperature)))\n",
    "print('For Females 95% confidence interval (one draw): {}'.format(Females_confidace_intervals))"
   ]
  },
  {
   "cell_type": "code",
   "execution_count": 20,
   "metadata": {},
   "outputs": [
    {
     "name": "stdout",
     "output_type": "stream",
     "text": [
      "Males sample mean (10000 draw): 98.10559261538461\n",
      "Males sample standard deviation(10000 draw):0.08633214957134736\n",
      "For Males 95% confidence interval (10000 draw): (97.93638471151684, 98.27480051925238)\n",
      "\n",
      "\n",
      "Feales sample mean (10000 draw): 98.39412738461539\n",
      "Feales sample standard deviation(10000 draw):0.09173738933260607\n",
      "For Males 95% confidence interval (10000 draw): (96.94788968478372, 99.83980262290854)\n"
     ]
    }
   ],
   "source": [
    "males_bootstrappping= bootstrap(males.temperature, 10000)\n",
    "Males_confidace_intervals = stats.norm.interval(0.95, loc=np.mean(males_bootstrappping), scale=np.std(males_bootstrappping))\n",
    "print('Males sample mean (10000 draw): {}\\nMales sample standard deviation(10000 draw):{}'.format(np.mean(males_bootstrappping),np.std(males_bootstrappping)))\n",
    "print('For Males 95% confidence interval (10000 draw): {}'.format(Males_confidace_intervals))\n",
    "\n",
    "females_bootstrappping= bootstrap(females.temperature, 10000)\n",
    "Feales_confidace_intervals = stats.norm.interval(0.95, loc=np.mean(females_bootstrappping), scale=np.std(females_bootstrappping))\n",
    "print('\\n\\nFeales sample mean (10000 draw): {}\\nFeales sample standard deviation(10000 draw):{}'.format(np.mean(females_bootstrappping),np.std(females_bootstrappping)))\n",
    "print('For Males 95% confidence interval (10000 draw): {}'.format(Females_confidace_intervals))\n"
   ]
  },
  {
   "cell_type": "markdown",
   "metadata": {},
   "source": [
    "---\n"
   ]
  },
  {
   "cell_type": "markdown",
   "metadata": {},
   "source": [
    "Because the null hypothesis is that the means are equal, a two-tailed test is required."
   ]
  },
  {
   "cell_type": "markdown",
   "metadata": {},
   "source": [
    "<b> P_value is smaller than 0.05. Thus, null hypothesis should be rejected and  mean male and female body temperatures are different.</b>"
   ]
  },
  {
   "cell_type": "code",
   "execution_count": 21,
   "metadata": {},
   "outputs": [
    {
     "name": "stdout",
     "output_type": "stream",
     "text": [
      "Acording to Welch's t-test:\n",
      "t-statistic: 229.03\n",
      "p-value: 0.0\n"
     ]
    }
   ],
   "source": [
    "f=bootstrap(females.temperature, 10000)\n",
    "m= bootstrap(males.temperature, 10000)\n",
    "result = stats.ttest_ind(f,m,equal_var=False)\n",
    "print('Acording to Welch\\'s t-test:\\nt-statistic: {:0.5}\\np-value: {:0.5}'.format(result[0], result[1]))\n"
   ]
  },
  {
   "cell_type": "code",
   "execution_count": null,
   "metadata": {},
   "outputs": [],
   "source": []
  },
  {
   "cell_type": "code",
   "execution_count": null,
   "metadata": {},
   "outputs": [],
   "source": []
  }
 ],
 "metadata": {
  "kernelspec": {
   "display_name": "Python 3",
   "language": "python",
   "name": "python3"
  },
  "language_info": {
   "codemirror_mode": {
    "name": "ipython",
    "version": 3
   },
   "file_extension": ".py",
   "mimetype": "text/x-python",
   "name": "python",
   "nbconvert_exporter": "python",
   "pygments_lexer": "ipython3",
   "version": "3.7.1"
  }
 },
 "nbformat": 4,
 "nbformat_minor": 1
}
